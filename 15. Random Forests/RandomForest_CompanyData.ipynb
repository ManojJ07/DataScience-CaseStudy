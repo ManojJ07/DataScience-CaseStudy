{
 "cells": [
  {
   "cell_type": "markdown",
   "id": "58683e6e",
   "metadata": {},
   "source": [
    "##### Random Forest\n",
    " \n",
    "Assignment\n",
    "\n",
    "\n",
    "About the data: \n",
    "Let’s consider a Company dataset with around 10 variables and 400 records. \n",
    "The attributes are as follows: \n",
    " Sales -- Unit sales (in thousands) at each location  \n",
    " Competitor Price -- Price charged by competitor at each location  \n",
    " Income -- Community income level (in thousands of dollars)  \n",
    " Advertising -- Local advertising budget for company at each location (in thousands of dollars)  \n",
    " Population -- Population size in region (in thousands)  \n",
    " Price -- Price company charges for car seats at each site  \n",
    " Shelf Location at stores -- A factor with levels Bad, Good and Medium indicating the quality of the shelving location for the car seats at each site  \n",
    " Age -- Average age of the local population  \n",
    " Education -- Education level at each location  \n",
    " Urban -- A factor with levels No and Yes to indicate whether the store is in an urban or rural location  \n",
    " US -- A factor with levels No and Yes to indicate whether the store is in the US or not  \n",
    "The company dataset looks like this:   \n",
    " \n",
    "##### Problem Statement:  \n",
    "A cloth manufacturing company is interested to know about the segment or attributes causes high sale.   \n",
    "Approach - A Random Forest can be built with target variable Sales (we will first convert it in categorical variable) & all other variable will be independent in the analysis.    "
   ]
  },
  {
   "cell_type": "markdown",
   "id": "20b78385",
   "metadata": {},
   "source": [
    "##### Import Libraries"
   ]
  },
  {
   "cell_type": "code",
   "execution_count": 1,
   "id": "877dbea3",
   "metadata": {},
   "outputs": [],
   "source": [
    "import numpy as np\n",
    "import pandas as pd\n",
    "\n",
    "import matplotlib.pyplot as plt\n",
    "import seaborn as sns\n",
    "\n",
    "from sklearn.svm import SVC\n",
    "from sklearn.preprocessing import LabelEncoder\n",
    "from sklearn.tree import DecisionTreeClassifier\n",
    "from sklearn.linear_model import LogisticRegression\n",
    "from sklearn.model_selection import KFold, cross_val_score\n",
    "from sklearn.ensemble import BaggingClassifier, RandomForestClassifier, AdaBoostClassifier, VotingClassifier\n",
    "\n",
    "import warnings\n",
    "warnings.filterwarnings('ignore')"
   ]
  },
  {
   "cell_type": "code",
   "execution_count": 2,
   "id": "9668220b",
   "metadata": {},
   "outputs": [],
   "source": [
    "df = pd.read_csv('Company_Data.csv')"
   ]
  },
  {
   "cell_type": "code",
   "execution_count": 3,
   "id": "b5d39781",
   "metadata": {},
   "outputs": [
    {
     "data": {
      "text/html": [
       "<div>\n",
       "<style scoped>\n",
       "    .dataframe tbody tr th:only-of-type {\n",
       "        vertical-align: middle;\n",
       "    }\n",
       "\n",
       "    .dataframe tbody tr th {\n",
       "        vertical-align: top;\n",
       "    }\n",
       "\n",
       "    .dataframe thead th {\n",
       "        text-align: right;\n",
       "    }\n",
       "</style>\n",
       "<table border=\"1\" class=\"dataframe\">\n",
       "  <thead>\n",
       "    <tr style=\"text-align: right;\">\n",
       "      <th></th>\n",
       "      <th>Sales</th>\n",
       "      <th>CompPrice</th>\n",
       "      <th>Income</th>\n",
       "      <th>Advertising</th>\n",
       "      <th>Population</th>\n",
       "      <th>Price</th>\n",
       "      <th>ShelveLoc</th>\n",
       "      <th>Age</th>\n",
       "      <th>Education</th>\n",
       "      <th>Urban</th>\n",
       "      <th>US</th>\n",
       "    </tr>\n",
       "  </thead>\n",
       "  <tbody>\n",
       "    <tr>\n",
       "      <th>0</th>\n",
       "      <td>9.50</td>\n",
       "      <td>138</td>\n",
       "      <td>73</td>\n",
       "      <td>11</td>\n",
       "      <td>276</td>\n",
       "      <td>120</td>\n",
       "      <td>Bad</td>\n",
       "      <td>42</td>\n",
       "      <td>17</td>\n",
       "      <td>Yes</td>\n",
       "      <td>Yes</td>\n",
       "    </tr>\n",
       "    <tr>\n",
       "      <th>1</th>\n",
       "      <td>11.22</td>\n",
       "      <td>111</td>\n",
       "      <td>48</td>\n",
       "      <td>16</td>\n",
       "      <td>260</td>\n",
       "      <td>83</td>\n",
       "      <td>Good</td>\n",
       "      <td>65</td>\n",
       "      <td>10</td>\n",
       "      <td>Yes</td>\n",
       "      <td>Yes</td>\n",
       "    </tr>\n",
       "    <tr>\n",
       "      <th>2</th>\n",
       "      <td>10.06</td>\n",
       "      <td>113</td>\n",
       "      <td>35</td>\n",
       "      <td>10</td>\n",
       "      <td>269</td>\n",
       "      <td>80</td>\n",
       "      <td>Medium</td>\n",
       "      <td>59</td>\n",
       "      <td>12</td>\n",
       "      <td>Yes</td>\n",
       "      <td>Yes</td>\n",
       "    </tr>\n",
       "    <tr>\n",
       "      <th>3</th>\n",
       "      <td>7.40</td>\n",
       "      <td>117</td>\n",
       "      <td>100</td>\n",
       "      <td>4</td>\n",
       "      <td>466</td>\n",
       "      <td>97</td>\n",
       "      <td>Medium</td>\n",
       "      <td>55</td>\n",
       "      <td>14</td>\n",
       "      <td>Yes</td>\n",
       "      <td>Yes</td>\n",
       "    </tr>\n",
       "    <tr>\n",
       "      <th>4</th>\n",
       "      <td>4.15</td>\n",
       "      <td>141</td>\n",
       "      <td>64</td>\n",
       "      <td>3</td>\n",
       "      <td>340</td>\n",
       "      <td>128</td>\n",
       "      <td>Bad</td>\n",
       "      <td>38</td>\n",
       "      <td>13</td>\n",
       "      <td>Yes</td>\n",
       "      <td>No</td>\n",
       "    </tr>\n",
       "  </tbody>\n",
       "</table>\n",
       "</div>"
      ],
      "text/plain": [
       "   Sales  CompPrice  Income  Advertising  Population  Price ShelveLoc  Age  \\\n",
       "0   9.50        138      73           11         276    120       Bad   42   \n",
       "1  11.22        111      48           16         260     83      Good   65   \n",
       "2  10.06        113      35           10         269     80    Medium   59   \n",
       "3   7.40        117     100            4         466     97    Medium   55   \n",
       "4   4.15        141      64            3         340    128       Bad   38   \n",
       "\n",
       "   Education Urban   US  \n",
       "0         17   Yes  Yes  \n",
       "1         10   Yes  Yes  \n",
       "2         12   Yes  Yes  \n",
       "3         14   Yes  Yes  \n",
       "4         13   Yes   No  "
      ]
     },
     "execution_count": 3,
     "metadata": {},
     "output_type": "execute_result"
    }
   ],
   "source": [
    "df = df.dropna()\n",
    "df.head()"
   ]
  },
  {
   "cell_type": "markdown",
   "id": "de17ddab",
   "metadata": {},
   "source": [
    "##### Checking the shape of the dataset"
   ]
  },
  {
   "cell_type": "code",
   "execution_count": 4,
   "id": "21613e27",
   "metadata": {},
   "outputs": [
    {
     "data": {
      "text/plain": [
       "(400, 11)"
      ]
     },
     "execution_count": 4,
     "metadata": {},
     "output_type": "execute_result"
    }
   ],
   "source": [
    "df.shape"
   ]
  },
  {
   "cell_type": "markdown",
   "id": "38c950f5",
   "metadata": {},
   "source": [
    "##### Checking for null values"
   ]
  },
  {
   "cell_type": "code",
   "execution_count": 5,
   "id": "f181e912",
   "metadata": {},
   "outputs": [
    {
     "name": "stdout",
     "output_type": "stream",
     "text": [
      "<class 'pandas.core.frame.DataFrame'>\n",
      "RangeIndex: 400 entries, 0 to 399\n",
      "Data columns (total 11 columns):\n",
      " #   Column       Non-Null Count  Dtype  \n",
      "---  ------       --------------  -----  \n",
      " 0   Sales        400 non-null    float64\n",
      " 1   CompPrice    400 non-null    int64  \n",
      " 2   Income       400 non-null    int64  \n",
      " 3   Advertising  400 non-null    int64  \n",
      " 4   Population   400 non-null    int64  \n",
      " 5   Price        400 non-null    int64  \n",
      " 6   ShelveLoc    400 non-null    object \n",
      " 7   Age          400 non-null    int64  \n",
      " 8   Education    400 non-null    int64  \n",
      " 9   Urban        400 non-null    object \n",
      " 10  US           400 non-null    object \n",
      "dtypes: float64(1), int64(7), object(3)\n",
      "memory usage: 34.5+ KB\n"
     ]
    }
   ],
   "source": [
    "df.info()"
   ]
  },
  {
   "cell_type": "markdown",
   "id": "e84bf853",
   "metadata": {},
   "source": [
    "##### Checking for duplicated values"
   ]
  },
  {
   "cell_type": "code",
   "execution_count": 6,
   "id": "068fab45",
   "metadata": {},
   "outputs": [
    {
     "data": {
      "text/html": [
       "<div>\n",
       "<style scoped>\n",
       "    .dataframe tbody tr th:only-of-type {\n",
       "        vertical-align: middle;\n",
       "    }\n",
       "\n",
       "    .dataframe tbody tr th {\n",
       "        vertical-align: top;\n",
       "    }\n",
       "\n",
       "    .dataframe thead th {\n",
       "        text-align: right;\n",
       "    }\n",
       "</style>\n",
       "<table border=\"1\" class=\"dataframe\">\n",
       "  <thead>\n",
       "    <tr style=\"text-align: right;\">\n",
       "      <th></th>\n",
       "      <th>Sales</th>\n",
       "      <th>CompPrice</th>\n",
       "      <th>Income</th>\n",
       "      <th>Advertising</th>\n",
       "      <th>Population</th>\n",
       "      <th>Price</th>\n",
       "      <th>ShelveLoc</th>\n",
       "      <th>Age</th>\n",
       "      <th>Education</th>\n",
       "      <th>Urban</th>\n",
       "      <th>US</th>\n",
       "    </tr>\n",
       "  </thead>\n",
       "  <tbody>\n",
       "  </tbody>\n",
       "</table>\n",
       "</div>"
      ],
      "text/plain": [
       "Empty DataFrame\n",
       "Columns: [Sales, CompPrice, Income, Advertising, Population, Price, ShelveLoc, Age, Education, Urban, US]\n",
       "Index: []"
      ]
     },
     "execution_count": 6,
     "metadata": {},
     "output_type": "execute_result"
    }
   ],
   "source": [
    "df[df.duplicated(keep = False)]"
   ]
  },
  {
   "cell_type": "code",
   "execution_count": 7,
   "id": "ab09f0dc",
   "metadata": {},
   "outputs": [
    {
     "data": {
      "text/html": [
       "<div>\n",
       "<style scoped>\n",
       "    .dataframe tbody tr th:only-of-type {\n",
       "        vertical-align: middle;\n",
       "    }\n",
       "\n",
       "    .dataframe tbody tr th {\n",
       "        vertical-align: top;\n",
       "    }\n",
       "\n",
       "    .dataframe thead th {\n",
       "        text-align: right;\n",
       "    }\n",
       "</style>\n",
       "<table border=\"1\" class=\"dataframe\">\n",
       "  <thead>\n",
       "    <tr style=\"text-align: right;\">\n",
       "      <th></th>\n",
       "      <th>Sales</th>\n",
       "      <th>CompPrice</th>\n",
       "      <th>Income</th>\n",
       "      <th>Advertising</th>\n",
       "      <th>Population</th>\n",
       "      <th>Price</th>\n",
       "      <th>Age</th>\n",
       "      <th>Education</th>\n",
       "    </tr>\n",
       "  </thead>\n",
       "  <tbody>\n",
       "    <tr>\n",
       "      <th>count</th>\n",
       "      <td>400.000000</td>\n",
       "      <td>400.000000</td>\n",
       "      <td>400.000000</td>\n",
       "      <td>400.000000</td>\n",
       "      <td>400.000000</td>\n",
       "      <td>400.000000</td>\n",
       "      <td>400.000000</td>\n",
       "      <td>400.000000</td>\n",
       "    </tr>\n",
       "    <tr>\n",
       "      <th>mean</th>\n",
       "      <td>7.496325</td>\n",
       "      <td>124.975000</td>\n",
       "      <td>68.657500</td>\n",
       "      <td>6.635000</td>\n",
       "      <td>264.840000</td>\n",
       "      <td>115.795000</td>\n",
       "      <td>53.322500</td>\n",
       "      <td>13.900000</td>\n",
       "    </tr>\n",
       "    <tr>\n",
       "      <th>std</th>\n",
       "      <td>2.824115</td>\n",
       "      <td>15.334512</td>\n",
       "      <td>27.986037</td>\n",
       "      <td>6.650364</td>\n",
       "      <td>147.376436</td>\n",
       "      <td>23.676664</td>\n",
       "      <td>16.200297</td>\n",
       "      <td>2.620528</td>\n",
       "    </tr>\n",
       "    <tr>\n",
       "      <th>min</th>\n",
       "      <td>0.000000</td>\n",
       "      <td>77.000000</td>\n",
       "      <td>21.000000</td>\n",
       "      <td>0.000000</td>\n",
       "      <td>10.000000</td>\n",
       "      <td>24.000000</td>\n",
       "      <td>25.000000</td>\n",
       "      <td>10.000000</td>\n",
       "    </tr>\n",
       "    <tr>\n",
       "      <th>25%</th>\n",
       "      <td>5.390000</td>\n",
       "      <td>115.000000</td>\n",
       "      <td>42.750000</td>\n",
       "      <td>0.000000</td>\n",
       "      <td>139.000000</td>\n",
       "      <td>100.000000</td>\n",
       "      <td>39.750000</td>\n",
       "      <td>12.000000</td>\n",
       "    </tr>\n",
       "    <tr>\n",
       "      <th>50%</th>\n",
       "      <td>7.490000</td>\n",
       "      <td>125.000000</td>\n",
       "      <td>69.000000</td>\n",
       "      <td>5.000000</td>\n",
       "      <td>272.000000</td>\n",
       "      <td>117.000000</td>\n",
       "      <td>54.500000</td>\n",
       "      <td>14.000000</td>\n",
       "    </tr>\n",
       "    <tr>\n",
       "      <th>75%</th>\n",
       "      <td>9.320000</td>\n",
       "      <td>135.000000</td>\n",
       "      <td>91.000000</td>\n",
       "      <td>12.000000</td>\n",
       "      <td>398.500000</td>\n",
       "      <td>131.000000</td>\n",
       "      <td>66.000000</td>\n",
       "      <td>16.000000</td>\n",
       "    </tr>\n",
       "    <tr>\n",
       "      <th>max</th>\n",
       "      <td>16.270000</td>\n",
       "      <td>175.000000</td>\n",
       "      <td>120.000000</td>\n",
       "      <td>29.000000</td>\n",
       "      <td>509.000000</td>\n",
       "      <td>191.000000</td>\n",
       "      <td>80.000000</td>\n",
       "      <td>18.000000</td>\n",
       "    </tr>\n",
       "  </tbody>\n",
       "</table>\n",
       "</div>"
      ],
      "text/plain": [
       "            Sales   CompPrice      Income  Advertising  Population  \\\n",
       "count  400.000000  400.000000  400.000000   400.000000  400.000000   \n",
       "mean     7.496325  124.975000   68.657500     6.635000  264.840000   \n",
       "std      2.824115   15.334512   27.986037     6.650364  147.376436   \n",
       "min      0.000000   77.000000   21.000000     0.000000   10.000000   \n",
       "25%      5.390000  115.000000   42.750000     0.000000  139.000000   \n",
       "50%      7.490000  125.000000   69.000000     5.000000  272.000000   \n",
       "75%      9.320000  135.000000   91.000000    12.000000  398.500000   \n",
       "max     16.270000  175.000000  120.000000    29.000000  509.000000   \n",
       "\n",
       "            Price         Age   Education  \n",
       "count  400.000000  400.000000  400.000000  \n",
       "mean   115.795000   53.322500   13.900000  \n",
       "std     23.676664   16.200297    2.620528  \n",
       "min     24.000000   25.000000   10.000000  \n",
       "25%    100.000000   39.750000   12.000000  \n",
       "50%    117.000000   54.500000   14.000000  \n",
       "75%    131.000000   66.000000   16.000000  \n",
       "max    191.000000   80.000000   18.000000  "
      ]
     },
     "execution_count": 7,
     "metadata": {},
     "output_type": "execute_result"
    }
   ],
   "source": [
    "df.describe()"
   ]
  },
  {
   "cell_type": "markdown",
   "id": "8e0cb1a5",
   "metadata": {},
   "source": [
    "##### Checking for outliers using boxplot"
   ]
  },
  {
   "cell_type": "code",
   "execution_count": 8,
   "id": "a224669b",
   "metadata": {},
   "outputs": [
    {
     "data": {
      "image/png": "[encoded data removed]",
      "text/plain": [
       "<Figure size 1080x720 with 12 Axes>"
      ]
     },
     "metadata": {
      "needs_background": "light"
     },
     "output_type": "display_data"
    }
   ],
   "source": [
    "fig, ax = plt.subplots(4, 3, figsize = (15,10))\n",
    "\n",
    "sns.boxplot(df.Sales, ax = ax[0, 0])\n",
    "sns.boxplot(df.CompPrice, ax = ax[0, 1])\n",
    "sns.boxplot(df.Income, ax = ax[0, 2])\n",
    "sns.boxplot(df.Advertising, ax = ax[1, 0])\n",
    "sns.boxplot(df.Population, ax = ax[1, 1])\n",
    "sns.boxplot(df.Price, ax = ax[1, 2])\n",
    "sns.boxplot(df.Age, ax = ax[2, 1])\n",
    "sns.boxplot(df.Education, ax = ax[2, 2])\n",
    "\n",
    "plt.tight_layout()\n",
    "plt.show()"
   ]
  },
  {
   "cell_type": "markdown",
   "id": "a19ba386",
   "metadata": {},
   "source": [
    "- Take high sales above at 7.49 beacause it is the mean of sales"
   ]
  },
  {
   "cell_type": "code",
   "execution_count": 9,
   "id": "ffad0041",
   "metadata": {},
   "outputs": [],
   "source": [
    "df['sales'] = (df['Sales'] > 7.49)*1"
   ]
  },
  {
   "cell_type": "markdown",
   "id": "29147c98",
   "metadata": {},
   "source": [
    "##### Find the outliers in each of the column"
   ]
  },
  {
   "cell_type": "code",
   "execution_count": 10,
   "id": "d618bbc2",
   "metadata": {},
   "outputs": [
    {
     "name": "stdout",
     "output_type": "stream",
     "text": [
      "Outliers: \n",
      "\n",
      "Sales :  (array([316, 376], dtype=int64),)\n",
      "CompPrice :  (array([ 42, 310], dtype=int64),)\n",
      "Income :  (array([], dtype=int64),)\n",
      "Advertising :  (array([], dtype=int64),)\n",
      "Population :  (array([], dtype=int64),)\n",
      "Price :  (array([ 42, 125, 165, 174, 367], dtype=int64),)\n",
      "Age :  (array([], dtype=int64),)\n",
      "Education :  (array([], dtype=int64),)\n"
     ]
    }
   ],
   "source": [
    "def outliers_iqr(ys):\n",
    "    quartile_1, quartile_3 = np.percentile(ys, [25, 75])\n",
    "    iqr = quartile_3 - quartile_1\n",
    "    lower_bound = quartile_1 - (iqr * 1.5)\n",
    "    upper_bound = quartile_3 + (iqr * 1.5)\n",
    "    return np.where((ys > upper_bound) | (ys < lower_bound))\n",
    "\n",
    "list_atributes = ['Sales', 'CompPrice', 'Income', 'Advertising', 'Population', 'Price', 'Age', 'Education']\n",
    "print(\"Outliers: \\n\")\n",
    "for item in list_atributes:\n",
    "    print(item,': ',outliers_iqr(df[item]))"
   ]
  },
  {
   "cell_type": "markdown",
   "id": "ce4c6fdd",
   "metadata": {},
   "source": [
    "##### Checking the skewness and kurtosis"
   ]
  },
  {
   "cell_type": "code",
   "execution_count": 11,
   "id": "38a77f64",
   "metadata": {},
   "outputs": [
    {
     "data": {
      "text/html": [
       "<div>\n",
       "<style scoped>\n",
       "    .dataframe tbody tr th:only-of-type {\n",
       "        vertical-align: middle;\n",
       "    }\n",
       "\n",
       "    .dataframe tbody tr th {\n",
       "        vertical-align: top;\n",
       "    }\n",
       "\n",
       "    .dataframe thead th {\n",
       "        text-align: right;\n",
       "    }\n",
       "</style>\n",
       "<table border=\"1\" class=\"dataframe\">\n",
       "  <thead>\n",
       "    <tr style=\"text-align: right;\">\n",
       "      <th></th>\n",
       "      <th>Sales</th>\n",
       "      <th>CompPrice</th>\n",
       "      <th>Income</th>\n",
       "      <th>Advertising</th>\n",
       "      <th>Population</th>\n",
       "      <th>Price</th>\n",
       "      <th>Age</th>\n",
       "      <th>Education</th>\n",
       "      <th>sales</th>\n",
       "    </tr>\n",
       "  </thead>\n",
       "  <tbody>\n",
       "    <tr>\n",
       "      <th>skewness</th>\n",
       "      <td>0.185560</td>\n",
       "      <td>-0.042755</td>\n",
       "      <td>0.049444</td>\n",
       "      <td>0.639586</td>\n",
       "      <td>-0.051227</td>\n",
       "      <td>-0.125286</td>\n",
       "      <td>-0.077182</td>\n",
       "      <td>0.044007</td>\n",
       "      <td>0.010038</td>\n",
       "    </tr>\n",
       "    <tr>\n",
       "      <th>kurtosis</th>\n",
       "      <td>-0.080877</td>\n",
       "      <td>0.041666</td>\n",
       "      <td>-1.085289</td>\n",
       "      <td>-0.545118</td>\n",
       "      <td>-1.202318</td>\n",
       "      <td>0.451885</td>\n",
       "      <td>-1.134392</td>\n",
       "      <td>-1.298332</td>\n",
       "      <td>-2.009974</td>\n",
       "    </tr>\n",
       "  </tbody>\n",
       "</table>\n",
       "</div>"
      ],
      "text/plain": [
       "             Sales  CompPrice    Income  Advertising  Population     Price  \\\n",
       "skewness  0.185560  -0.042755  0.049444     0.639586   -0.051227 -0.125286   \n",
       "kurtosis -0.080877   0.041666 -1.085289    -0.545118   -1.202318  0.451885   \n",
       "\n",
       "               Age  Education     sales  \n",
       "skewness -0.077182   0.044007  0.010038  \n",
       "kurtosis -1.134392  -1.298332 -2.009974  "
      ]
     },
     "execution_count": 11,
     "metadata": {},
     "output_type": "execute_result"
    }
   ],
   "source": [
    "col = df.select_dtypes(exclude = 'object').columns.tolist()\n",
    "\n",
    "data = df[col]\n",
    "pd.DataFrame(data = [data.skew(), data.kurtosis()],index = ['skewness', 'kurtosis'])"
   ]
  },
  {
   "cell_type": "markdown",
   "id": "b557accb",
   "metadata": {},
   "source": [
    "##### Encode columns into numeric"
   ]
  },
  {
   "cell_type": "code",
   "execution_count": 12,
   "id": "8e7db79d",
   "metadata": {},
   "outputs": [],
   "source": [
    "for column in df.columns:\n",
    "    le = LabelEncoder()\n",
    "    df[column] = le.fit_transform(df[column])"
   ]
  },
  {
   "cell_type": "code",
   "execution_count": 13,
   "id": "d66f1331",
   "metadata": {},
   "outputs": [
    {
     "data": {
      "text/html": [
       "<div>\n",
       "<style scoped>\n",
       "    .dataframe tbody tr th:only-of-type {\n",
       "        vertical-align: middle;\n",
       "    }\n",
       "\n",
       "    .dataframe tbody tr th {\n",
       "        vertical-align: top;\n",
       "    }\n",
       "\n",
       "    .dataframe thead th {\n",
       "        text-align: right;\n",
       "    }\n",
       "</style>\n",
       "<table border=\"1\" class=\"dataframe\">\n",
       "  <thead>\n",
       "    <tr style=\"text-align: right;\">\n",
       "      <th></th>\n",
       "      <th>Sales</th>\n",
       "      <th>CompPrice</th>\n",
       "      <th>Income</th>\n",
       "      <th>Advertising</th>\n",
       "      <th>Population</th>\n",
       "      <th>Price</th>\n",
       "      <th>ShelveLoc</th>\n",
       "      <th>Age</th>\n",
       "      <th>Education</th>\n",
       "      <th>Urban</th>\n",
       "      <th>US</th>\n",
       "      <th>sales</th>\n",
       "    </tr>\n",
       "  </thead>\n",
       "  <tbody>\n",
       "    <tr>\n",
       "      <th>0</th>\n",
       "      <td>255</td>\n",
       "      <td>49</td>\n",
       "      <td>51</td>\n",
       "      <td>11</td>\n",
       "      <td>141</td>\n",
       "      <td>54</td>\n",
       "      <td>0</td>\n",
       "      <td>17</td>\n",
       "      <td>7</td>\n",
       "      <td>1</td>\n",
       "      <td>1</td>\n",
       "      <td>1</td>\n",
       "    </tr>\n",
       "    <tr>\n",
       "      <th>1</th>\n",
       "      <td>297</td>\n",
       "      <td>22</td>\n",
       "      <td>27</td>\n",
       "      <td>16</td>\n",
       "      <td>129</td>\n",
       "      <td>18</td>\n",
       "      <td>1</td>\n",
       "      <td>40</td>\n",
       "      <td>0</td>\n",
       "      <td>1</td>\n",
       "      <td>1</td>\n",
       "      <td>1</td>\n",
       "    </tr>\n",
       "    <tr>\n",
       "      <th>2</th>\n",
       "      <td>267</td>\n",
       "      <td>24</td>\n",
       "      <td>14</td>\n",
       "      <td>10</td>\n",
       "      <td>138</td>\n",
       "      <td>15</td>\n",
       "      <td>2</td>\n",
       "      <td>34</td>\n",
       "      <td>2</td>\n",
       "      <td>1</td>\n",
       "      <td>1</td>\n",
       "      <td>1</td>\n",
       "    </tr>\n",
       "    <tr>\n",
       "      <th>3</th>\n",
       "      <td>158</td>\n",
       "      <td>28</td>\n",
       "      <td>77</td>\n",
       "      <td>4</td>\n",
       "      <td>249</td>\n",
       "      <td>31</td>\n",
       "      <td>2</td>\n",
       "      <td>30</td>\n",
       "      <td>4</td>\n",
       "      <td>1</td>\n",
       "      <td>1</td>\n",
       "      <td>0</td>\n",
       "    </tr>\n",
       "    <tr>\n",
       "      <th>4</th>\n",
       "      <td>37</td>\n",
       "      <td>52</td>\n",
       "      <td>42</td>\n",
       "      <td>3</td>\n",
       "      <td>178</td>\n",
       "      <td>62</td>\n",
       "      <td>0</td>\n",
       "      <td>13</td>\n",
       "      <td>3</td>\n",
       "      <td>1</td>\n",
       "      <td>0</td>\n",
       "      <td>0</td>\n",
       "    </tr>\n",
       "    <tr>\n",
       "      <th>...</th>\n",
       "      <td>...</td>\n",
       "      <td>...</td>\n",
       "      <td>...</td>\n",
       "      <td>...</td>\n",
       "      <td>...</td>\n",
       "      <td>...</td>\n",
       "      <td>...</td>\n",
       "      <td>...</td>\n",
       "      <td>...</td>\n",
       "      <td>...</td>\n",
       "      <td>...</td>\n",
       "      <td>...</td>\n",
       "    </tr>\n",
       "    <tr>\n",
       "      <th>395</th>\n",
       "      <td>320</td>\n",
       "      <td>49</td>\n",
       "      <td>85</td>\n",
       "      <td>17</td>\n",
       "      <td>104</td>\n",
       "      <td>62</td>\n",
       "      <td>1</td>\n",
       "      <td>8</td>\n",
       "      <td>4</td>\n",
       "      <td>1</td>\n",
       "      <td>1</td>\n",
       "      <td>1</td>\n",
       "    </tr>\n",
       "    <tr>\n",
       "      <th>396</th>\n",
       "      <td>114</td>\n",
       "      <td>50</td>\n",
       "      <td>2</td>\n",
       "      <td>3</td>\n",
       "      <td>17</td>\n",
       "      <td>54</td>\n",
       "      <td>2</td>\n",
       "      <td>30</td>\n",
       "      <td>1</td>\n",
       "      <td>0</td>\n",
       "      <td>1</td>\n",
       "      <td>0</td>\n",
       "    </tr>\n",
       "    <tr>\n",
       "      <th>397</th>\n",
       "      <td>159</td>\n",
       "      <td>71</td>\n",
       "      <td>5</td>\n",
       "      <td>12</td>\n",
       "      <td>195</td>\n",
       "      <td>91</td>\n",
       "      <td>2</td>\n",
       "      <td>15</td>\n",
       "      <td>8</td>\n",
       "      <td>1</td>\n",
       "      <td>1</td>\n",
       "      <td>0</td>\n",
       "    </tr>\n",
       "    <tr>\n",
       "      <th>398</th>\n",
       "      <td>106</td>\n",
       "      <td>12</td>\n",
       "      <td>57</td>\n",
       "      <td>7</td>\n",
       "      <td>145</td>\n",
       "      <td>29</td>\n",
       "      <td>0</td>\n",
       "      <td>25</td>\n",
       "      <td>2</td>\n",
       "      <td>1</td>\n",
       "      <td>1</td>\n",
       "      <td>0</td>\n",
       "    </tr>\n",
       "    <tr>\n",
       "      <th>399</th>\n",
       "      <td>262</td>\n",
       "      <td>45</td>\n",
       "      <td>16</td>\n",
       "      <td>0</td>\n",
       "      <td>12</td>\n",
       "      <td>54</td>\n",
       "      <td>1</td>\n",
       "      <td>24</td>\n",
       "      <td>6</td>\n",
       "      <td>1</td>\n",
       "      <td>1</td>\n",
       "      <td>1</td>\n",
       "    </tr>\n",
       "  </tbody>\n",
       "</table>\n",
       "<p>400 rows × 12 columns</p>\n",
       "</div>"
      ],
      "text/plain": [
       "     Sales  CompPrice  Income  Advertising  Population  Price  ShelveLoc  Age  \\\n",
       "0      255         49      51           11         141     54          0   17   \n",
       "1      297         22      27           16         129     18          1   40   \n",
       "2      267         24      14           10         138     15          2   34   \n",
       "3      158         28      77            4         249     31          2   30   \n",
       "4       37         52      42            3         178     62          0   13   \n",
       "..     ...        ...     ...          ...         ...    ...        ...  ...   \n",
       "395    320         49      85           17         104     62          1    8   \n",
       "396    114         50       2            3          17     54          2   30   \n",
       "397    159         71       5           12         195     91          2   15   \n",
       "398    106         12      57            7         145     29          0   25   \n",
       "399    262         45      16            0          12     54          1   24   \n",
       "\n",
       "     Education  Urban  US  sales  \n",
       "0            7      1   1      1  \n",
       "1            0      1   1      1  \n",
       "2            2      1   1      1  \n",
       "3            4      1   1      0  \n",
       "4            3      1   0      0  \n",
       "..         ...    ...  ..    ...  \n",
       "395          4      1   1      1  \n",
       "396          1      0   1      0  \n",
       "397          8      1   1      0  \n",
       "398          2      1   1      0  \n",
       "399          6      1   1      1  \n",
       "\n",
       "[400 rows x 12 columns]"
      ]
     },
     "execution_count": 13,
     "metadata": {},
     "output_type": "execute_result"
    }
   ],
   "source": [
    "df"
   ]
  },
  {
   "cell_type": "markdown",
   "id": "6e6aa3e0",
   "metadata": {},
   "source": [
    "##### Correlation"
   ]
  },
  {
   "cell_type": "code",
   "execution_count": 14,
   "id": "6301c5cc",
   "metadata": {},
   "outputs": [],
   "source": [
    "def plot_correlation_map(df):\n",
    "    corr = df.corr()\n",
    "    _ , ax = plt.subplots(figsize = (12, 10 ))\n",
    "    cmap = sns.diverging_palette(240, 10, as_cmap = True)\n",
    "    _ = sns.heatmap(corr, cmap = cmap, square = True, cbar_kws = {'shrink' : .9}, ax = ax, annot = True, annot_kws = {'fontsize' : 12})"
   ]
  },
  {
   "cell_type": "code",
   "execution_count": 15,
   "id": "22c99e56",
   "metadata": {},
   "outputs": [
    {
     "data": {
      "image/png": "[encoded data removed]",
      "text/plain": [
       "<Figure size 864x720 with 2 Axes>"
      ]
     },
     "metadata": {
      "needs_background": "light"
     },
     "output_type": "display_data"
    }
   ],
   "source": [
    "plot_correlation_map(df)"
   ]
  },
  {
   "cell_type": "code",
   "execution_count": 16,
   "id": "483510e6",
   "metadata": {},
   "outputs": [
    {
     "data": {
      "text/plain": [
       "(400, 12)"
      ]
     },
     "execution_count": 16,
     "metadata": {},
     "output_type": "execute_result"
    }
   ],
   "source": [
    "df.shape"
   ]
  },
  {
   "cell_type": "code",
   "execution_count": 17,
   "id": "25f1ec10",
   "metadata": {},
   "outputs": [
    {
     "data": {
      "text/plain": [
       "array([[255,  49,  51, ...,   1,   1,   1],\n",
       "       [297,  22,  27, ...,   1,   1,   1],\n",
       "       [267,  24,  14, ...,   1,   1,   1],\n",
       "       ...,\n",
       "       [159,  71,   5, ...,   1,   1,   0],\n",
       "       [106,  12,  57, ...,   1,   1,   0],\n",
       "       [262,  45,  16, ...,   1,   1,   1]], dtype=int64)"
      ]
     },
     "execution_count": 17,
     "metadata": {},
     "output_type": "execute_result"
    }
   ],
   "source": [
    "array = df.values\n",
    "array"
   ]
  },
  {
   "cell_type": "code",
   "execution_count": 18,
   "id": "3a780618",
   "metadata": {},
   "outputs": [],
   "source": [
    "x = array[:, 1:11]\n",
    "y = array[:, 11]"
   ]
  },
  {
   "cell_type": "markdown",
   "id": "15f8e938",
   "metadata": {},
   "source": [
    "##### Bagging"
   ]
  },
  {
   "cell_type": "code",
   "execution_count": 19,
   "id": "f8e6254a",
   "metadata": {},
   "outputs": [
    {
     "name": "stdout",
     "output_type": "stream",
     "text": [
      "0.8125\n"
     ]
    }
   ],
   "source": [
    "kfold = KFold(n_splits = 10, random_state = 10, shuffle = True)\n",
    "cart = DecisionTreeClassifier()\n",
    "model = BaggingClassifier(base_estimator = cart, n_estimators = 20, random_state = 7)\n",
    "results = cross_val_score(model, x, y, cv = kfold)\n",
    "print(results.mean())"
   ]
  },
  {
   "cell_type": "markdown",
   "id": "dbb9dae0",
   "metadata": {},
   "source": [
    "##### Random Forest Classification"
   ]
  },
  {
   "cell_type": "code",
   "execution_count": 20,
   "id": "f6621a5f",
   "metadata": {},
   "outputs": [
    {
     "name": "stdout",
     "output_type": "stream",
     "text": [
      "0.8074999999999999\n"
     ]
    }
   ],
   "source": [
    "kfold = KFold(n_splits = 10, random_state = 7, shuffle = True)\n",
    "model = RandomForestClassifier(n_estimators = 1000, max_features = 5, criterion = 'gini')\n",
    "results = cross_val_score(model, x, y, cv = kfold)\n",
    "print(results.mean())"
   ]
  },
  {
   "cell_type": "markdown",
   "id": "142b4a80",
   "metadata": {},
   "source": [
    "##### AdaBoost Classification"
   ]
  },
  {
   "cell_type": "code",
   "execution_count": 21,
   "id": "fd0a93e9",
   "metadata": {},
   "outputs": [
    {
     "name": "stdout",
     "output_type": "stream",
     "text": [
      "0.7699999999999999\n"
     ]
    }
   ],
   "source": [
    "kfold = KFold(n_splits = 10, random_state = 7, shuffle = True)\n",
    "model = AdaBoostClassifier(n_estimators = 10, random_state = 7)\n",
    "results = cross_val_score(model, x, y, cv=kfold)\n",
    "print(results.mean())"
   ]
  },
  {
   "cell_type": "markdown",
   "id": "5c4f3c28",
   "metadata": {},
   "source": [
    "##### Stacking Ensemble estimators for Classification"
   ]
  },
  {
   "cell_type": "code",
   "execution_count": 22,
   "id": "0cf9949d",
   "metadata": {},
   "outputs": [],
   "source": [
    "kfold = KFold(n_splits = 10, random_state = 7, shuffle = True)"
   ]
  },
  {
   "cell_type": "markdown",
   "id": "988405c7",
   "metadata": {},
   "source": [
    "##### Create the sub models"
   ]
  },
  {
   "cell_type": "code",
   "execution_count": 23,
   "id": "905802aa",
   "metadata": {},
   "outputs": [],
   "source": [
    "estimators = []\n",
    "\n",
    "model1 = LogisticRegression(max_iter = 500)\n",
    "estimators.append(('logistic', model1))\n",
    "\n",
    "model2 = DecisionTreeClassifier()\n",
    "estimators.append(('cart', model2))\n",
    "\n",
    "model3 = SVC()\n",
    "estimators.append(('svm', model3))"
   ]
  },
  {
   "cell_type": "markdown",
   "id": "16807317",
   "metadata": {},
   "source": [
    "##### Create the ensemble model"
   ]
  },
  {
   "cell_type": "code",
   "execution_count": 24,
   "id": "ad9fdeac",
   "metadata": {},
   "outputs": [
    {
     "name": "stdout",
     "output_type": "stream",
     "text": [
      "0.7775000000000001\n"
     ]
    }
   ],
   "source": [
    "ensemble = VotingClassifier(estimators)\n",
    "results = cross_val_score(ensemble, x, y, cv=kfold)\n",
    "print(results.mean())"
   ]
  },
  {
   "cell_type": "code",
   "execution_count": 25,
   "id": "ae409285",
   "metadata": {},
   "outputs": [
    {
     "data": {
      "text/plain": [
       "[('logistic', LogisticRegression(max_iter=500)),\n",
       " ('cart', DecisionTreeClassifier()),\n",
       " ('svm', SVC())]"
      ]
     },
     "execution_count": 25,
     "metadata": {},
     "output_type": "execute_result"
    }
   ],
   "source": [
    "estimators"
   ]
  }
 ],
 "metadata": {
  "kernelspec": {
   "display_name": "Python 3 (ipykernel)",
   "language": "python",
   "name": "python3"
  },
  "language_info": {
   "codemirror_mode": {
    "name": "ipython",
    "version": 3
   },
   "file_extension": ".py",
   "mimetype": "text/x-python",
   "name": "python",
   "nbconvert_exporter": "python",
   "pygments_lexer": "ipython3",
   "version": "3.9.12"
  }
 },
 "nbformat": 4,
 "nbformat_minor": 5
}
