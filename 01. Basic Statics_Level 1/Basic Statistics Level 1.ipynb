{
 "cells": [
  {
   "cell_type": "markdown",
   "id": "9653c8ec",
   "metadata": {},
   "source": [
    "#### Q5) A bag contains 2 red, 3 green and 2 blue balls. Two balls are drawn at random. What is the probability that none of the balls drawn is blue?"
   ]
  },
  {
   "cell_type": "markdown",
   "id": "6d6c69d5",
   "metadata": {},
   "source": [
    "- The probability of drawing 2 balls that are not blue is "
   ]
  },
  {
   "cell_type": "code",
   "execution_count": 1,
   "id": "da70459f",
   "metadata": {},
   "outputs": [
    {
     "name": "stdout",
     "output_type": "stream",
     "text": [
      "[21]\n",
      "[10]\n",
      "The probability of drawing 2 balls that are not blue is [0.47619048]\n"
     ]
    }
   ],
   "source": [
    "import math\n",
    "import numpy as np\n",
    "total_nos_of_balls=2,3,2\n",
    "n=7\n",
    "k=2\n",
    "a=[]\n",
    "a.append(math.comb(n,k))\n",
    "print(a)\n",
    "n=5\n",
    "k=2\n",
    "b=[]\n",
    "b.append(math.comb(n,k))\n",
    "print(b)\n",
    "print('The probability of drawing 2 balls that are not blue is', np.array(b)/np.array(a))"
   ]
  },
  {
   "cell_type": "markdown",
   "id": "717f0824",
   "metadata": {},
   "source": [
    "---------------------------------------------------------------------------------------------------------------------------"
   ]
  },
  {
   "cell_type": "markdown",
   "id": "055e193e",
   "metadata": {},
   "source": [
    "#### Q6) Calculate the Expected number of candies for a randomly selected child \n",
    "- Below are the probabilities of count of candies for children (ignoring the nature of the child-Generalized view)"
   ]
  },
  {
   "cell_type": "markdown",
   "id": "28aba40c",
   "metadata": {},
   "source": [
    "|CHILD|Candies count|Probability|\n",
    "|-----|-------------|-----------|\n",
    "|A|1|0.015|\n",
    "|B|4|0.20|\n",
    "|C|3|0.65|\n",
    "|D|5|0.005|\n",
    "|E|6|0.01|\n",
    "|F|2|0.120|"
   ]
  },
  {
   "cell_type": "markdown",
   "id": "7bc0a07b",
   "metadata": {},
   "source": [
    "- Child A – probability of having 1 candy = 0.015 = 1*0.015 = 0.015 \n",
    "- Child B – probability of having 4 candies = 0.20 = 4*0.20 = 0.8\n",
    "- Child C – probability of having 3 candies = 0.65 = 3*0.65 = 1.95\n",
    "- Child D – probability of having 5 candies = 0.005 = 5*0.005 = 0.025\n",
    "- Child E – probability of having 6 candies = 0.01 = 6*0.01 = 0.06\n",
    "- Child F – probability of having 2 candies = 0.120 = 2*0.120 = 0.24\n",
    "- The expected number of candies a randomly selected child getting is \n",
    "0.015+0.8+1.95+0.025+0.06+0.24 = 3.09"
   ]
  },
  {
   "cell_type": "markdown",
   "id": "e3d392d6",
   "metadata": {},
   "source": [
    "---------------------------------------------------------------------------------------------------------------------------"
   ]
  },
  {
   "cell_type": "markdown",
   "id": "cadc6e69",
   "metadata": {},
   "source": [
    "#### Q7) Calculate Mean, Median, Mode, Variance, Standard Deviation, Range &     comment about the values / draw inferences, for the given dataset\n",
    "-\tFor Points, Score, Weigh. Find Mean, Median, Mode, Variance, Standard Deviation, and Range and also Comment about the values/ Draw some inferences.\n"
   ]
  },
  {
   "cell_type": "code",
   "execution_count": 2,
   "id": "274e63b3",
   "metadata": {},
   "outputs": [],
   "source": [
    "import pandas as pd\n",
    "import seaborn as sns\n",
    "import warnings\n",
    "warnings.filterwarnings('ignore')"
   ]
  },
  {
   "cell_type": "code",
   "execution_count": 3,
   "id": "4ab2062e",
   "metadata": {},
   "outputs": [
    {
     "data": {
      "text/html": [
       "<div>\n",
       "<style scoped>\n",
       "    .dataframe tbody tr th:only-of-type {\n",
       "        vertical-align: middle;\n",
       "    }\n",
       "\n",
       "    .dataframe tbody tr th {\n",
       "        vertical-align: top;\n",
       "    }\n",
       "\n",
       "    .dataframe thead th {\n",
       "        text-align: right;\n",
       "    }\n",
       "</style>\n",
       "<table border=\"1\" class=\"dataframe\">\n",
       "  <thead>\n",
       "    <tr style=\"text-align: right;\">\n",
       "      <th></th>\n",
       "      <th>Unnamed: 0</th>\n",
       "      <th>Points</th>\n",
       "      <th>Score</th>\n",
       "      <th>Weigh</th>\n",
       "    </tr>\n",
       "  </thead>\n",
       "  <tbody>\n",
       "    <tr>\n",
       "      <th>0</th>\n",
       "      <td>Mazda RX4</td>\n",
       "      <td>3.90</td>\n",
       "      <td>2.620</td>\n",
       "      <td>16.46</td>\n",
       "    </tr>\n",
       "    <tr>\n",
       "      <th>1</th>\n",
       "      <td>Mazda RX4 Wag</td>\n",
       "      <td>3.90</td>\n",
       "      <td>2.875</td>\n",
       "      <td>17.02</td>\n",
       "    </tr>\n",
       "    <tr>\n",
       "      <th>2</th>\n",
       "      <td>Datsun 710</td>\n",
       "      <td>3.85</td>\n",
       "      <td>2.320</td>\n",
       "      <td>18.61</td>\n",
       "    </tr>\n",
       "    <tr>\n",
       "      <th>3</th>\n",
       "      <td>Hornet 4 Drive</td>\n",
       "      <td>3.08</td>\n",
       "      <td>3.215</td>\n",
       "      <td>19.44</td>\n",
       "    </tr>\n",
       "    <tr>\n",
       "      <th>4</th>\n",
       "      <td>Hornet Sportabout</td>\n",
       "      <td>3.15</td>\n",
       "      <td>3.440</td>\n",
       "      <td>17.02</td>\n",
       "    </tr>\n",
       "    <tr>\n",
       "      <th>5</th>\n",
       "      <td>Valiant</td>\n",
       "      <td>2.76</td>\n",
       "      <td>3.460</td>\n",
       "      <td>20.22</td>\n",
       "    </tr>\n",
       "    <tr>\n",
       "      <th>6</th>\n",
       "      <td>Duster 360</td>\n",
       "      <td>3.21</td>\n",
       "      <td>3.570</td>\n",
       "      <td>15.84</td>\n",
       "    </tr>\n",
       "    <tr>\n",
       "      <th>7</th>\n",
       "      <td>Merc 240D</td>\n",
       "      <td>3.69</td>\n",
       "      <td>3.190</td>\n",
       "      <td>20.00</td>\n",
       "    </tr>\n",
       "    <tr>\n",
       "      <th>8</th>\n",
       "      <td>Merc 230</td>\n",
       "      <td>3.92</td>\n",
       "      <td>3.150</td>\n",
       "      <td>22.90</td>\n",
       "    </tr>\n",
       "    <tr>\n",
       "      <th>9</th>\n",
       "      <td>Merc 280</td>\n",
       "      <td>3.92</td>\n",
       "      <td>3.440</td>\n",
       "      <td>18.30</td>\n",
       "    </tr>\n",
       "    <tr>\n",
       "      <th>10</th>\n",
       "      <td>Merc 280C</td>\n",
       "      <td>3.92</td>\n",
       "      <td>3.440</td>\n",
       "      <td>18.90</td>\n",
       "    </tr>\n",
       "    <tr>\n",
       "      <th>11</th>\n",
       "      <td>Merc 450SE</td>\n",
       "      <td>3.07</td>\n",
       "      <td>4.070</td>\n",
       "      <td>17.40</td>\n",
       "    </tr>\n",
       "    <tr>\n",
       "      <th>12</th>\n",
       "      <td>Merc 450SL</td>\n",
       "      <td>3.07</td>\n",
       "      <td>3.730</td>\n",
       "      <td>17.60</td>\n",
       "    </tr>\n",
       "    <tr>\n",
       "      <th>13</th>\n",
       "      <td>Merc 450SLC</td>\n",
       "      <td>3.07</td>\n",
       "      <td>3.780</td>\n",
       "      <td>18.00</td>\n",
       "    </tr>\n",
       "    <tr>\n",
       "      <th>14</th>\n",
       "      <td>Cadillac Fleetwood</td>\n",
       "      <td>2.93</td>\n",
       "      <td>5.250</td>\n",
       "      <td>17.98</td>\n",
       "    </tr>\n",
       "    <tr>\n",
       "      <th>15</th>\n",
       "      <td>Lincoln Continental</td>\n",
       "      <td>3.00</td>\n",
       "      <td>5.424</td>\n",
       "      <td>17.82</td>\n",
       "    </tr>\n",
       "    <tr>\n",
       "      <th>16</th>\n",
       "      <td>Chrysler Imperial</td>\n",
       "      <td>3.23</td>\n",
       "      <td>5.345</td>\n",
       "      <td>17.42</td>\n",
       "    </tr>\n",
       "    <tr>\n",
       "      <th>17</th>\n",
       "      <td>Fiat 128</td>\n",
       "      <td>4.08</td>\n",
       "      <td>2.200</td>\n",
       "      <td>19.47</td>\n",
       "    </tr>\n",
       "    <tr>\n",
       "      <th>18</th>\n",
       "      <td>Honda Civic</td>\n",
       "      <td>4.93</td>\n",
       "      <td>1.615</td>\n",
       "      <td>18.52</td>\n",
       "    </tr>\n",
       "    <tr>\n",
       "      <th>19</th>\n",
       "      <td>Toyota Corolla</td>\n",
       "      <td>4.22</td>\n",
       "      <td>1.835</td>\n",
       "      <td>19.90</td>\n",
       "    </tr>\n",
       "    <tr>\n",
       "      <th>20</th>\n",
       "      <td>Toyota Corona</td>\n",
       "      <td>3.70</td>\n",
       "      <td>2.465</td>\n",
       "      <td>20.01</td>\n",
       "    </tr>\n",
       "    <tr>\n",
       "      <th>21</th>\n",
       "      <td>Dodge Challenger</td>\n",
       "      <td>2.76</td>\n",
       "      <td>3.520</td>\n",
       "      <td>16.87</td>\n",
       "    </tr>\n",
       "    <tr>\n",
       "      <th>22</th>\n",
       "      <td>AMC Javelin</td>\n",
       "      <td>3.15</td>\n",
       "      <td>3.435</td>\n",
       "      <td>17.30</td>\n",
       "    </tr>\n",
       "    <tr>\n",
       "      <th>23</th>\n",
       "      <td>Camaro Z28</td>\n",
       "      <td>3.73</td>\n",
       "      <td>3.840</td>\n",
       "      <td>15.41</td>\n",
       "    </tr>\n",
       "    <tr>\n",
       "      <th>24</th>\n",
       "      <td>Pontiac Firebird</td>\n",
       "      <td>3.08</td>\n",
       "      <td>3.845</td>\n",
       "      <td>17.05</td>\n",
       "    </tr>\n",
       "    <tr>\n",
       "      <th>25</th>\n",
       "      <td>Fiat X1-9</td>\n",
       "      <td>4.08</td>\n",
       "      <td>1.935</td>\n",
       "      <td>18.90</td>\n",
       "    </tr>\n",
       "    <tr>\n",
       "      <th>26</th>\n",
       "      <td>Porsche 914-2</td>\n",
       "      <td>4.43</td>\n",
       "      <td>2.140</td>\n",
       "      <td>16.70</td>\n",
       "    </tr>\n",
       "    <tr>\n",
       "      <th>27</th>\n",
       "      <td>Lotus Europa</td>\n",
       "      <td>3.77</td>\n",
       "      <td>1.513</td>\n",
       "      <td>16.90</td>\n",
       "    </tr>\n",
       "    <tr>\n",
       "      <th>28</th>\n",
       "      <td>Ford Pantera L</td>\n",
       "      <td>4.22</td>\n",
       "      <td>3.170</td>\n",
       "      <td>14.50</td>\n",
       "    </tr>\n",
       "    <tr>\n",
       "      <th>29</th>\n",
       "      <td>Ferrari Dino</td>\n",
       "      <td>3.62</td>\n",
       "      <td>2.770</td>\n",
       "      <td>15.50</td>\n",
       "    </tr>\n",
       "    <tr>\n",
       "      <th>30</th>\n",
       "      <td>Maserati Bora</td>\n",
       "      <td>3.54</td>\n",
       "      <td>3.570</td>\n",
       "      <td>14.60</td>\n",
       "    </tr>\n",
       "    <tr>\n",
       "      <th>31</th>\n",
       "      <td>Volvo 142E</td>\n",
       "      <td>4.11</td>\n",
       "      <td>2.780</td>\n",
       "      <td>18.60</td>\n",
       "    </tr>\n",
       "  </tbody>\n",
       "</table>\n",
       "</div>"
      ],
      "text/plain": [
       "             Unnamed: 0  Points  Score  Weigh\n",
       "0             Mazda RX4    3.90  2.620  16.46\n",
       "1         Mazda RX4 Wag    3.90  2.875  17.02\n",
       "2            Datsun 710    3.85  2.320  18.61\n",
       "3        Hornet 4 Drive    3.08  3.215  19.44\n",
       "4     Hornet Sportabout    3.15  3.440  17.02\n",
       "5               Valiant    2.76  3.460  20.22\n",
       "6            Duster 360    3.21  3.570  15.84\n",
       "7             Merc 240D    3.69  3.190  20.00\n",
       "8              Merc 230    3.92  3.150  22.90\n",
       "9              Merc 280    3.92  3.440  18.30\n",
       "10            Merc 280C    3.92  3.440  18.90\n",
       "11           Merc 450SE    3.07  4.070  17.40\n",
       "12           Merc 450SL    3.07  3.730  17.60\n",
       "13          Merc 450SLC    3.07  3.780  18.00\n",
       "14   Cadillac Fleetwood    2.93  5.250  17.98\n",
       "15  Lincoln Continental    3.00  5.424  17.82\n",
       "16    Chrysler Imperial    3.23  5.345  17.42\n",
       "17             Fiat 128    4.08  2.200  19.47\n",
       "18          Honda Civic    4.93  1.615  18.52\n",
       "19       Toyota Corolla    4.22  1.835  19.90\n",
       "20        Toyota Corona    3.70  2.465  20.01\n",
       "21     Dodge Challenger    2.76  3.520  16.87\n",
       "22          AMC Javelin    3.15  3.435  17.30\n",
       "23           Camaro Z28    3.73  3.840  15.41\n",
       "24     Pontiac Firebird    3.08  3.845  17.05\n",
       "25            Fiat X1-9    4.08  1.935  18.90\n",
       "26        Porsche 914-2    4.43  2.140  16.70\n",
       "27         Lotus Europa    3.77  1.513  16.90\n",
       "28       Ford Pantera L    4.22  3.170  14.50\n",
       "29         Ferrari Dino    3.62  2.770  15.50\n",
       "30        Maserati Bora    3.54  3.570  14.60\n",
       "31           Volvo 142E    4.11  2.780  18.60"
      ]
     },
     "execution_count": 3,
     "metadata": {},
     "output_type": "execute_result"
    }
   ],
   "source": [
    "data = pd.read_csv(\"Q7.csv\")\n",
    "data"
   ]
  },
  {
   "cell_type": "code",
   "execution_count": 4,
   "id": "cee3ae97",
   "metadata": {},
   "outputs": [
    {
     "data": {
      "text/plain": [
       "<AxesSubplot:xlabel='Points'>"
      ]
     },
     "execution_count": 4,
     "metadata": {},
     "output_type": "execute_result"
    },
    {
     "data": {
      "image/png": "[encoded data removed]",
      "text/plain": [
       "<Figure size 432x288 with 1 Axes>"
      ]
     },
     "metadata": {
      "needs_background": "light"
     },
     "output_type": "display_data"
    }
   ],
   "source": [
    "sns.boxplot(data['Points'])"
   ]
  },
  {
   "cell_type": "code",
   "execution_count": 5,
   "id": "9e283d45",
   "metadata": {},
   "outputs": [
    {
     "data": {
      "text/plain": [
       "<AxesSubplot:xlabel='Score'>"
      ]
     },
     "execution_count": 5,
     "metadata": {},
     "output_type": "execute_result"
    },
    {
     "data": {
      "image/png": "[encoded data removed]",
      "text/plain": [
       "<Figure size 432x288 with 1 Axes>"
      ]
     },
     "metadata": {
      "needs_background": "light"
     },
     "output_type": "display_data"
    }
   ],
   "source": [
    "sns.boxplot(data['Score'])"
   ]
  },
  {
   "cell_type": "code",
   "execution_count": 6,
   "id": "4790b43b",
   "metadata": {},
   "outputs": [
    {
     "data": {
      "text/plain": [
       "<AxesSubplot:xlabel='Weigh'>"
      ]
     },
     "execution_count": 6,
     "metadata": {},
     "output_type": "execute_result"
    },
    {
     "data": {
      "image/png": "[encoded data removed]",
      "text/plain": [
       "<Figure size 432x288 with 1 Axes>"
      ]
     },
     "metadata": {
      "needs_background": "light"
     },
     "output_type": "display_data"
    }
   ],
   "source": [
    "sns.boxplot(data['Weigh'])"
   ]
  },
  {
   "cell_type": "code",
   "execution_count": 7,
   "id": "576c8411",
   "metadata": {},
   "outputs": [
    {
     "data": {
      "text/plain": [
       "Unnamed: 0    0\n",
       "Points        0\n",
       "Score         0\n",
       "Weigh         0\n",
       "dtype: int64"
      ]
     },
     "execution_count": 7,
     "metadata": {},
     "output_type": "execute_result"
    }
   ],
   "source": [
    "data.isna().sum()"
   ]
  },
  {
   "cell_type": "code",
   "execution_count": 8,
   "id": "1fd4e00f",
   "metadata": {},
   "outputs": [
    {
     "data": {
      "text/plain": [
       "Points    0.285881\n",
       "Score     0.957379\n",
       "Weigh     3.193166\n",
       "dtype: float64"
      ]
     },
     "execution_count": 8,
     "metadata": {},
     "output_type": "execute_result"
    }
   ],
   "source": [
    "data.var()"
   ]
  },
  {
   "cell_type": "code",
   "execution_count": 9,
   "id": "12adcefb",
   "metadata": {},
   "outputs": [
    {
     "data": {
      "text/html": [
       "<div>\n",
       "<style scoped>\n",
       "    .dataframe tbody tr th:only-of-type {\n",
       "        vertical-align: middle;\n",
       "    }\n",
       "\n",
       "    .dataframe tbody tr th {\n",
       "        vertical-align: top;\n",
       "    }\n",
       "\n",
       "    .dataframe thead th {\n",
       "        text-align: right;\n",
       "    }\n",
       "</style>\n",
       "<table border=\"1\" class=\"dataframe\">\n",
       "  <thead>\n",
       "    <tr style=\"text-align: right;\">\n",
       "      <th></th>\n",
       "      <th>Points</th>\n",
       "      <th>Score</th>\n",
       "      <th>Weigh</th>\n",
       "    </tr>\n",
       "  </thead>\n",
       "  <tbody>\n",
       "    <tr>\n",
       "      <th>count</th>\n",
       "      <td>32.000000</td>\n",
       "      <td>32.000000</td>\n",
       "      <td>32.000000</td>\n",
       "    </tr>\n",
       "    <tr>\n",
       "      <th>mean</th>\n",
       "      <td>3.596563</td>\n",
       "      <td>3.217250</td>\n",
       "      <td>17.848750</td>\n",
       "    </tr>\n",
       "    <tr>\n",
       "      <th>std</th>\n",
       "      <td>0.534679</td>\n",
       "      <td>0.978457</td>\n",
       "      <td>1.786943</td>\n",
       "    </tr>\n",
       "    <tr>\n",
       "      <th>min</th>\n",
       "      <td>2.760000</td>\n",
       "      <td>1.513000</td>\n",
       "      <td>14.500000</td>\n",
       "    </tr>\n",
       "    <tr>\n",
       "      <th>25%</th>\n",
       "      <td>3.080000</td>\n",
       "      <td>2.581250</td>\n",
       "      <td>16.892500</td>\n",
       "    </tr>\n",
       "    <tr>\n",
       "      <th>50%</th>\n",
       "      <td>3.695000</td>\n",
       "      <td>3.325000</td>\n",
       "      <td>17.710000</td>\n",
       "    </tr>\n",
       "    <tr>\n",
       "      <th>75%</th>\n",
       "      <td>3.920000</td>\n",
       "      <td>3.610000</td>\n",
       "      <td>18.900000</td>\n",
       "    </tr>\n",
       "    <tr>\n",
       "      <th>max</th>\n",
       "      <td>4.930000</td>\n",
       "      <td>5.424000</td>\n",
       "      <td>22.900000</td>\n",
       "    </tr>\n",
       "  </tbody>\n",
       "</table>\n",
       "</div>"
      ],
      "text/plain": [
       "          Points      Score      Weigh\n",
       "count  32.000000  32.000000  32.000000\n",
       "mean    3.596563   3.217250  17.848750\n",
       "std     0.534679   0.978457   1.786943\n",
       "min     2.760000   1.513000  14.500000\n",
       "25%     3.080000   2.581250  16.892500\n",
       "50%     3.695000   3.325000  17.710000\n",
       "75%     3.920000   3.610000  18.900000\n",
       "max     4.930000   5.424000  22.900000"
      ]
     },
     "execution_count": 9,
     "metadata": {},
     "output_type": "execute_result"
    }
   ],
   "source": [
    "data.describe()"
   ]
  },
  {
   "cell_type": "code",
   "execution_count": 10,
   "id": "6064c7ec",
   "metadata": {},
   "outputs": [
    {
     "name": "stdout",
     "output_type": "stream",
     "text": [
      "0    3.07\n",
      "1    3.92\n",
      "Name: Points, dtype: float64 \n",
      "\n",
      "0    3.44\n",
      "Name: Score, dtype: float64 \n",
      "\n",
      "0    17.02\n",
      "1    18.90\n",
      "Name: Weigh, dtype: float64 \n",
      "\n"
     ]
    }
   ],
   "source": [
    "print(data.Points.mode(),'\\n')\n",
    "print(data.Score.mode(),'\\n')\n",
    "print(data.Weigh.mode(),'\\n')"
   ]
  },
  {
   "cell_type": "code",
   "execution_count": 11,
   "id": "de68b4e4",
   "metadata": {},
   "outputs": [
    {
     "name": "stdout",
     "output_type": "stream",
     "text": [
      "Points Range --> 2.17\n",
      "Score Range --> 3.9110000000000005\n",
      "Weigh Range --> 8.399999999999999\n"
     ]
    }
   ],
   "source": [
    "print(\"Points Range -->\", data.Points.max()-data.Points.min())\n",
    "print(\"Score Range -->\", data.Score.max()-data.Score.min())\n",
    "print(\"Weigh Range -->\", data.Weigh.max()-data.Weigh.min())"
   ]
  },
  {
   "cell_type": "markdown",
   "id": "95f9c8ae",
   "metadata": {},
   "source": [
    "- Mean, Median, Mode, Variance, Standard Deviation, and Range for Points, Score, Weigh is\n",
    "\n",
    "||Points|Score|Weigh|\n",
    "|-|-----|-----|-----|\n",
    "|mean|3.596563|3.217250|17.848750|\n",
    "|median|3.695000|3.325000|17.710000|\n",
    "|mode|3.92|3.44|17.02|\n",
    "|variance|0.285881|0.957379|3.193166|\n",
    "|std|0.534679|0.978457|1.786943|\n",
    "|range|2.17|3.911|8.399999|"
   ]
  },
  {
   "cell_type": "markdown",
   "id": "7d113ee1",
   "metadata": {},
   "source": [
    "- Inference"
   ]
  },
  {
   "cell_type": "markdown",
   "id": "6cc58f9b",
   "metadata": {},
   "source": [
    "1.\tMost of the data lies around the median value itself. \n",
    "2.\tFrom the box plot, ‘Score’ and “Weigh’ have got outliers.\n",
    "3.\tFrom the above table we can tell ‘Points’ has got very less variance and ‘Weigh’ has got most dispersion of data.\n",
    "4.\t‘Points’ and ‘Score’ have negative skewness and ‘Weigh’ is positive skewed.\n",
    "5.\t‘Weigh’ has got more spread of data by looking at the range."
   ]
  },
  {
   "cell_type": "markdown",
   "id": "8f7d8621",
   "metadata": {},
   "source": [
    "---------------------------------------------------------------------------------------------------------------------------"
   ]
  },
  {
   "cell_type": "markdown",
   "id": "40c80d0c",
   "metadata": {},
   "source": [
    "#### Q9) Calculate Skewness, Kurtosis & draw inferences on the following data"
   ]
  },
  {
   "cell_type": "markdown",
   "id": "71486c3e",
   "metadata": {},
   "source": [
    "##### Car’s speed and distance"
   ]
  },
  {
   "cell_type": "code",
   "execution_count": 12,
   "id": "ed361876",
   "metadata": {},
   "outputs": [],
   "source": [
    "import pandas as pd\n",
    "from scipy.stats import kurtosis"
   ]
  },
  {
   "cell_type": "code",
   "execution_count": 13,
   "id": "eeaf4f12",
   "metadata": {},
   "outputs": [
    {
     "data": {
      "text/html": [
       "<div>\n",
       "<style scoped>\n",
       "    .dataframe tbody tr th:only-of-type {\n",
       "        vertical-align: middle;\n",
       "    }\n",
       "\n",
       "    .dataframe tbody tr th {\n",
       "        vertical-align: top;\n",
       "    }\n",
       "\n",
       "    .dataframe thead th {\n",
       "        text-align: right;\n",
       "    }\n",
       "</style>\n",
       "<table border=\"1\" class=\"dataframe\">\n",
       "  <thead>\n",
       "    <tr style=\"text-align: right;\">\n",
       "      <th></th>\n",
       "      <th>Index</th>\n",
       "      <th>speed</th>\n",
       "      <th>dist</th>\n",
       "    </tr>\n",
       "  </thead>\n",
       "  <tbody>\n",
       "    <tr>\n",
       "      <th>0</th>\n",
       "      <td>1</td>\n",
       "      <td>4</td>\n",
       "      <td>2</td>\n",
       "    </tr>\n",
       "    <tr>\n",
       "      <th>1</th>\n",
       "      <td>2</td>\n",
       "      <td>4</td>\n",
       "      <td>10</td>\n",
       "    </tr>\n",
       "    <tr>\n",
       "      <th>2</th>\n",
       "      <td>3</td>\n",
       "      <td>7</td>\n",
       "      <td>4</td>\n",
       "    </tr>\n",
       "    <tr>\n",
       "      <th>3</th>\n",
       "      <td>4</td>\n",
       "      <td>7</td>\n",
       "      <td>22</td>\n",
       "    </tr>\n",
       "    <tr>\n",
       "      <th>4</th>\n",
       "      <td>5</td>\n",
       "      <td>8</td>\n",
       "      <td>16</td>\n",
       "    </tr>\n",
       "  </tbody>\n",
       "</table>\n",
       "</div>"
      ],
      "text/plain": [
       "   Index  speed  dist\n",
       "0      1      4     2\n",
       "1      2      4    10\n",
       "2      3      7     4\n",
       "3      4      7    22\n",
       "4      5      8    16"
      ]
     },
     "execution_count": 13,
     "metadata": {},
     "output_type": "execute_result"
    }
   ],
   "source": [
    "SpeedDistance = pd.read_csv(\"Q9_a.csv\")\n",
    "SpeedDistance.head()"
   ]
  },
  {
   "cell_type": "code",
   "execution_count": 14,
   "id": "4203d588",
   "metadata": {},
   "outputs": [
    {
     "data": {
      "text/plain": [
       "Index    0.000000\n",
       "speed   -0.117510\n",
       "dist     0.806895\n",
       "dtype: float64"
      ]
     },
     "execution_count": 14,
     "metadata": {},
     "output_type": "execute_result"
    }
   ],
   "source": [
    "SpeedDistance.skew()"
   ]
  },
  {
   "cell_type": "markdown",
   "id": "9550e34c",
   "metadata": {},
   "source": [
    "- Inference\n",
    "\n",
    "1. speed is negatively skewed(Left skewed)\n",
    "2. dist is positively skewed(Right skewed)"
   ]
  },
  {
   "cell_type": "code",
   "execution_count": 15,
   "id": "8771882b",
   "metadata": {},
   "outputs": [
    {
     "data": {
      "text/plain": [
       "Index   -1.200000\n",
       "speed   -0.508994\n",
       "dist     0.405053\n",
       "dtype: float64"
      ]
     },
     "execution_count": 15,
     "metadata": {},
     "output_type": "execute_result"
    }
   ],
   "source": [
    "SpeedDistance.kurtosis()"
   ]
  },
  {
   "cell_type": "markdown",
   "id": "034a4f92",
   "metadata": {},
   "source": [
    "- Inference\n",
    "\n",
    "1. speed has got negative kurtosis(Platykurtic)\n",
    "2. dist has got positive kurtosis(Leptokurtic)"
   ]
  },
  {
   "cell_type": "markdown",
   "id": "9eb5628a",
   "metadata": {},
   "source": [
    "##### SP and Weight (WT)"
   ]
  },
  {
   "cell_type": "code",
   "execution_count": 16,
   "id": "b0e3aa58",
   "metadata": {},
   "outputs": [],
   "source": [
    "import pandas as pd\n",
    "from scipy.stats import kurtosis"
   ]
  },
  {
   "cell_type": "code",
   "execution_count": 17,
   "id": "9075adb5",
   "metadata": {},
   "outputs": [
    {
     "data": {
      "text/html": [
       "<div>\n",
       "<style scoped>\n",
       "    .dataframe tbody tr th:only-of-type {\n",
       "        vertical-align: middle;\n",
       "    }\n",
       "\n",
       "    .dataframe tbody tr th {\n",
       "        vertical-align: top;\n",
       "    }\n",
       "\n",
       "    .dataframe thead th {\n",
       "        text-align: right;\n",
       "    }\n",
       "</style>\n",
       "<table border=\"1\" class=\"dataframe\">\n",
       "  <thead>\n",
       "    <tr style=\"text-align: right;\">\n",
       "      <th></th>\n",
       "      <th>Unnamed: 0</th>\n",
       "      <th>SP</th>\n",
       "      <th>WT</th>\n",
       "    </tr>\n",
       "  </thead>\n",
       "  <tbody>\n",
       "    <tr>\n",
       "      <th>0</th>\n",
       "      <td>1</td>\n",
       "      <td>104.185353</td>\n",
       "      <td>28.762059</td>\n",
       "    </tr>\n",
       "    <tr>\n",
       "      <th>1</th>\n",
       "      <td>2</td>\n",
       "      <td>105.461264</td>\n",
       "      <td>30.466833</td>\n",
       "    </tr>\n",
       "    <tr>\n",
       "      <th>2</th>\n",
       "      <td>3</td>\n",
       "      <td>105.461264</td>\n",
       "      <td>30.193597</td>\n",
       "    </tr>\n",
       "    <tr>\n",
       "      <th>3</th>\n",
       "      <td>4</td>\n",
       "      <td>113.461264</td>\n",
       "      <td>30.632114</td>\n",
       "    </tr>\n",
       "    <tr>\n",
       "      <th>4</th>\n",
       "      <td>5</td>\n",
       "      <td>104.461264</td>\n",
       "      <td>29.889149</td>\n",
       "    </tr>\n",
       "  </tbody>\n",
       "</table>\n",
       "</div>"
      ],
      "text/plain": [
       "   Unnamed: 0          SP         WT\n",
       "0           1  104.185353  28.762059\n",
       "1           2  105.461264  30.466833\n",
       "2           3  105.461264  30.193597\n",
       "3           4  113.461264  30.632114\n",
       "4           5  104.461264  29.889149"
      ]
     },
     "execution_count": 17,
     "metadata": {},
     "output_type": "execute_result"
    }
   ],
   "source": [
    "WeightSP= pd.read_csv(\"Q9_b.csv\")\n",
    "WeightSP.head()"
   ]
  },
  {
   "cell_type": "code",
   "execution_count": 18,
   "id": "137e6970",
   "metadata": {},
   "outputs": [
    {
     "data": {
      "text/plain": [
       "Unnamed: 0    0.000000\n",
       "SP            1.611450\n",
       "WT           -0.614753\n",
       "dtype: float64"
      ]
     },
     "execution_count": 18,
     "metadata": {},
     "output_type": "execute_result"
    }
   ],
   "source": [
    "WeightSP.skew()"
   ]
  },
  {
   "cell_type": "markdown",
   "id": "68172866",
   "metadata": {},
   "source": [
    "- Inference\n",
    "\n",
    "1. SP is positively skewed(Right skewed)\n",
    "2. WT is negatively skewed(Left skewed)"
   ]
  },
  {
   "cell_type": "code",
   "execution_count": 19,
   "id": "2ad9985d",
   "metadata": {},
   "outputs": [
    {
     "data": {
      "text/plain": [
       "Unnamed: 0   -1.200000\n",
       "SP            2.977329\n",
       "WT            0.950291\n",
       "dtype: float64"
      ]
     },
     "execution_count": 19,
     "metadata": {},
     "output_type": "execute_result"
    }
   ],
   "source": [
    "WeightSP.kurtosis()"
   ]
  },
  {
   "cell_type": "markdown",
   "id": "3a5f649a",
   "metadata": {},
   "source": [
    "- Inference\n",
    "\n",
    "Both SP and WT have Positive Kurtosis(Leptokurtic)"
   ]
  },
  {
   "cell_type": "markdown",
   "id": "8a207c11",
   "metadata": {},
   "source": [
    "---------------------------------------------------------------------------------------------------------------------------"
   ]
  },
  {
   "cell_type": "markdown",
   "id": "cdccfff2",
   "metadata": {},
   "source": [
    "#### Q11) Suppose we want to estimate the average weight of an adult male in    Mexico. We draw a random sample of 2,000 men from a population of 3,000,000 men and weigh them. We find that the average person in our sample weighs 200 pounds, and the standard deviation of the sample is 30 pounds. Calculate 94%,98%,96% confidence interval?"
   ]
  },
  {
   "cell_type": "markdown",
   "id": "b6687ff8",
   "metadata": {},
   "source": [
    "Here total no of sample mean (n) = 2000  \n",
    "The average weight of person in sample (X̅) = 200   \n",
    "Standard deviation of sample (δ) = 30\n",
    "\n",
    "Confidence Interval = x ̅±z σ/√n"
   ]
  },
  {
   "cell_type": "code",
   "execution_count": 20,
   "id": "42ddb3b8",
   "metadata": {},
   "outputs": [],
   "source": [
    "import scipy\n",
    "from scipy.stats import norm"
   ]
  },
  {
   "cell_type": "code",
   "execution_count": 21,
   "id": "57a972ac",
   "metadata": {},
   "outputs": [
    {
     "name": "stdout",
     "output_type": "stream",
     "text": [
      "Z score for 94% is 1.5547735945968535\n",
      "Z score for 98% is 2.0537489106318225\n",
      "Z score for 96% is 1.7506860712521692\n"
     ]
    }
   ],
   "source": [
    "#Calculating Z score values for 94%, 98%, 96%\n",
    "\n",
    "print('Z score for 94% is',scipy.stats.norm.ppf(0.94))\n",
    "print('Z score for 98% is',scipy.stats.norm.ppf(0.98))\n",
    "print('Z score for 96% is',scipy.stats.norm.ppf(0.96))"
   ]
  },
  {
   "cell_type": "code",
   "execution_count": 22,
   "id": "38c63268",
   "metadata": {},
   "outputs": [
    {
     "name": "stdout",
     "output_type": "stream",
     "text": [
      "Upper Limit: 201.0429738341421\n",
      "Lower Limit: 198.9570261658579\n"
     ]
    }
   ],
   "source": [
    "#Confidence Interval for 94%\n",
    "\n",
    "import numpy as np\n",
    "\n",
    "print('Upper Limit:',200+(1.5547735945968535*(30/np.sqrt(2000))))\n",
    "print('Lower Limit:',200-(1.5547735945968535*(30/np.sqrt(2000))))"
   ]
  },
  {
   "cell_type": "code",
   "execution_count": 23,
   "id": "d6da0f0b",
   "metadata": {},
   "outputs": [
    {
     "name": "stdout",
     "output_type": "stream",
     "text": [
      "Upper Limit: 201.37769665186667\n",
      "Lower Limit: 198.62230334813333\n"
     ]
    }
   ],
   "source": [
    "#Confidence Interval for 98%\n",
    "\n",
    "print('Upper Limit:',200+(2.0537489106318225*(30/np.sqrt(2000))))\n",
    "print('Lower Limit:',200-(2.0537489106318225*(30/np.sqrt(2000))))"
   ]
  },
  {
   "cell_type": "code",
   "execution_count": 24,
   "id": "b8201d61",
   "metadata": {},
   "outputs": [
    {
     "name": "stdout",
     "output_type": "stream",
     "text": [
      "Upper Limit: 201.17439591877456\n",
      "Lower Limit: 198.82560408122544\n"
     ]
    }
   ],
   "source": [
    "#Confidence Interval for 96%\n",
    "\n",
    "print('Upper Limit:',200+(1.7506860712521692*(30/np.sqrt(2000))))\n",
    "print('Lower Limit:',200-(1.7506860712521692*(30/np.sqrt(2000))))"
   ]
  },
  {
   "cell_type": "markdown",
   "id": "1f4fb2b4",
   "metadata": {},
   "source": [
    "---------------------------------------------------------------------------------------------------------------------------"
   ]
  },
  {
   "cell_type": "markdown",
   "id": "8748fe8f",
   "metadata": {},
   "source": [
    "#### Q12) Below are the scores obtained by a student in tests \n",
    "34,36,36,38,38,39,39,40,40,41,41,41,41,42,42,45,49,56"
   ]
  },
  {
   "cell_type": "code",
   "execution_count": 25,
   "id": "1ba938d5",
   "metadata": {},
   "outputs": [],
   "source": [
    "import pandas as pd"
   ]
  },
  {
   "cell_type": "code",
   "execution_count": 26,
   "id": "c212be10",
   "metadata": {},
   "outputs": [
    {
     "data": {
      "text/plain": [
       "0     34\n",
       "1     36\n",
       "2     36\n",
       "3     38\n",
       "4     38\n",
       "5     39\n",
       "6     39\n",
       "7     40\n",
       "8     40\n",
       "9     41\n",
       "10    41\n",
       "11    41\n",
       "12    41\n",
       "13    42\n",
       "14    42\n",
       "15    45\n",
       "16    49\n",
       "17    56\n",
       "dtype: int64"
      ]
     },
     "execution_count": 26,
     "metadata": {},
     "output_type": "execute_result"
    }
   ],
   "source": [
    "a=pd.Series([34,36,36,38,38,39,39,40,40,41,41,41,41,42,42,45,49,56])\n",
    "a"
   ]
  },
  {
   "cell_type": "code",
   "execution_count": 27,
   "id": "006c8189",
   "metadata": {},
   "outputs": [
    {
     "data": {
      "text/plain": [
       "<AxesSubplot:>"
      ]
     },
     "execution_count": 27,
     "metadata": {},
     "output_type": "execute_result"
    },
    {
     "data": {
      "image/png": "[encoded data removed]",
      "text/plain": [
       "<Figure size 432x288 with 1 Axes>"
      ]
     },
     "metadata": {
      "needs_background": "light"
     },
     "output_type": "display_data"
    }
   ],
   "source": [
    "sns.boxplot(a)"
   ]
  },
  {
   "cell_type": "code",
   "execution_count": 28,
   "id": "5e2bf042",
   "metadata": {},
   "outputs": [
    {
     "data": {
      "text/plain": [
       "25.529411764705884"
      ]
     },
     "execution_count": 28,
     "metadata": {},
     "output_type": "execute_result"
    }
   ],
   "source": [
    "#Variance\n",
    "a.var()"
   ]
  },
  {
   "cell_type": "code",
   "execution_count": 29,
   "id": "cdc638ff",
   "metadata": {},
   "outputs": [
    {
     "data": {
      "text/plain": [
       "count    18.000000\n",
       "mean     41.000000\n",
       "std       5.052664\n",
       "min      34.000000\n",
       "25%      38.250000\n",
       "50%      40.500000\n",
       "75%      41.750000\n",
       "max      56.000000\n",
       "dtype: float64"
      ]
     },
     "execution_count": 29,
     "metadata": {},
     "output_type": "execute_result"
    }
   ],
   "source": [
    "a.describe()"
   ]
  },
  {
   "cell_type": "markdown",
   "id": "172ccacc",
   "metadata": {},
   "source": [
    "- Find mean, median, variance, standard deviation."
   ]
  },
  {
   "cell_type": "markdown",
   "id": "a673cad2",
   "metadata": {},
   "source": [
    "|DATA|VALUE|\n",
    "|----|-----|\n",
    "|MEAN|41.000000|\n",
    "|MEDIAN|40.500000|\n",
    "|VARIANCE|25.529412|\n",
    "|STANDARD DEVIATION|5.052664|"
   ]
  },
  {
   "cell_type": "markdown",
   "id": "b3df66a9",
   "metadata": {},
   "source": [
    "- What can we say about the student marks?"
   ]
  },
  {
   "cell_type": "markdown",
   "id": "d6d26f23",
   "metadata": {},
   "source": [
    "1.\tMost of the data lies around the median value itself. \n",
    "2.\tFrom the box plot, ‘Score’ and “Weigh’ have got outliers.\n",
    "3.\tFrom the above table we can tell ‘Points’ has got very less variance and ‘Weigh’ has got most dispersion of data.\n",
    "4.\t‘Points’ and ‘Score’ have negative skewness and ‘Weigh’ is positive skewed.\n",
    "5.\t‘Weigh’ has got more spread of data by looking at the range."
   ]
  },
  {
   "cell_type": "markdown",
   "id": "52a27ec4",
   "metadata": {},
   "source": [
    "---------------------------------------------------------------------------------------------------------------------------"
   ]
  },
  {
   "cell_type": "markdown",
   "id": "6d87c99f",
   "metadata": {},
   "source": [
    "#### Q 20) Calculate probability from the given dataset for the below cases\n",
    "\n",
    "- Data _set: Cars.csv\n",
    "\n",
    "Calculate the probability of MPG of Cars for the below cases.\n",
    "\n",
    "       MPG <- Cars$MPG"
   ]
  },
  {
   "cell_type": "code",
   "execution_count": 30,
   "id": "8a763712",
   "metadata": {},
   "outputs": [],
   "source": [
    "import pandas as pd\n",
    "from scipy import stats"
   ]
  },
  {
   "cell_type": "code",
   "execution_count": 31,
   "id": "bec022bc",
   "metadata": {},
   "outputs": [
    {
     "data": {
      "text/html": [
       "<div>\n",
       "<style scoped>\n",
       "    .dataframe tbody tr th:only-of-type {\n",
       "        vertical-align: middle;\n",
       "    }\n",
       "\n",
       "    .dataframe tbody tr th {\n",
       "        vertical-align: top;\n",
       "    }\n",
       "\n",
       "    .dataframe thead th {\n",
       "        text-align: right;\n",
       "    }\n",
       "</style>\n",
       "<table border=\"1\" class=\"dataframe\">\n",
       "  <thead>\n",
       "    <tr style=\"text-align: right;\">\n",
       "      <th></th>\n",
       "      <th>HP</th>\n",
       "      <th>MPG</th>\n",
       "      <th>VOL</th>\n",
       "      <th>SP</th>\n",
       "      <th>WT</th>\n",
       "    </tr>\n",
       "  </thead>\n",
       "  <tbody>\n",
       "    <tr>\n",
       "      <th>0</th>\n",
       "      <td>49</td>\n",
       "      <td>53.700681</td>\n",
       "      <td>89</td>\n",
       "      <td>104.185353</td>\n",
       "      <td>28.762059</td>\n",
       "    </tr>\n",
       "    <tr>\n",
       "      <th>1</th>\n",
       "      <td>55</td>\n",
       "      <td>50.013401</td>\n",
       "      <td>92</td>\n",
       "      <td>105.461264</td>\n",
       "      <td>30.466833</td>\n",
       "    </tr>\n",
       "    <tr>\n",
       "      <th>2</th>\n",
       "      <td>55</td>\n",
       "      <td>50.013401</td>\n",
       "      <td>92</td>\n",
       "      <td>105.461264</td>\n",
       "      <td>30.193597</td>\n",
       "    </tr>\n",
       "    <tr>\n",
       "      <th>3</th>\n",
       "      <td>70</td>\n",
       "      <td>45.696322</td>\n",
       "      <td>92</td>\n",
       "      <td>113.461264</td>\n",
       "      <td>30.632114</td>\n",
       "    </tr>\n",
       "    <tr>\n",
       "      <th>4</th>\n",
       "      <td>53</td>\n",
       "      <td>50.504232</td>\n",
       "      <td>92</td>\n",
       "      <td>104.461264</td>\n",
       "      <td>29.889149</td>\n",
       "    </tr>\n",
       "  </tbody>\n",
       "</table>\n",
       "</div>"
      ],
      "text/plain": [
       "   HP        MPG  VOL          SP         WT\n",
       "0  49  53.700681   89  104.185353  28.762059\n",
       "1  55  50.013401   92  105.461264  30.466833\n",
       "2  55  50.013401   92  105.461264  30.193597\n",
       "3  70  45.696322   92  113.461264  30.632114\n",
       "4  53  50.504232   92  104.461264  29.889149"
      ]
     },
     "execution_count": 31,
     "metadata": {},
     "output_type": "execute_result"
    }
   ],
   "source": [
    "cars = pd.read_csv(\"Cars.csv\")\n",
    "cars.head()"
   ]
  },
  {
   "cell_type": "markdown",
   "id": "b5de61ba",
   "metadata": {},
   "source": [
    "- P(MPG>38)"
   ]
  },
  {
   "cell_type": "code",
   "execution_count": 32,
   "id": "689b9825",
   "metadata": {},
   "outputs": [
    {
     "data": {
      "text/plain": [
       "0.3475939251582705"
      ]
     },
     "execution_count": 32,
     "metadata": {},
     "output_type": "execute_result"
    }
   ],
   "source": [
    "1-stats.norm.cdf(38, cars['MPG'].mean(), cars['MPG'].std())"
   ]
  },
  {
   "cell_type": "markdown",
   "id": "aa123c56",
   "metadata": {},
   "source": [
    "- P(MPG<40)"
   ]
  },
  {
   "cell_type": "code",
   "execution_count": 33,
   "id": "cc1e7f9b",
   "metadata": {},
   "outputs": [
    {
     "data": {
      "text/plain": [
       "0.7293498762151616"
      ]
     },
     "execution_count": 33,
     "metadata": {},
     "output_type": "execute_result"
    }
   ],
   "source": [
    "stats.norm.cdf(40, cars['MPG'].mean(), cars['MPG'].std())"
   ]
  },
  {
   "cell_type": "markdown",
   "id": "480bb70e",
   "metadata": {},
   "source": [
    "- P(20<MPG<50)"
   ]
  },
  {
   "cell_type": "code",
   "execution_count": 34,
   "id": "775ad70e",
   "metadata": {},
   "outputs": [
    {
     "data": {
      "text/plain": [
       "0.8988689169682046"
      ]
     },
     "execution_count": 34,
     "metadata": {},
     "output_type": "execute_result"
    }
   ],
   "source": [
    "(stats.norm.cdf(50, cars['MPG'].mean(), cars['MPG'].std())) - (stats.norm.cdf(20, cars['MPG'].mean(), cars['MPG'].std()))"
   ]
  },
  {
   "cell_type": "markdown",
   "id": "3fca383f",
   "metadata": {},
   "source": [
    "---------------------------------------------------------------------------------------------------------------------------"
   ]
  },
  {
   "cell_type": "markdown",
   "id": "b6be96a3",
   "metadata": {},
   "source": [
    "#### Q 21) Check whether the data follows normal distribution"
   ]
  },
  {
   "cell_type": "markdown",
   "id": "34dbeb61",
   "metadata": {},
   "source": [
    "a) Check whether the MPG of Cars follows Normal Distribution \n",
    "- Dataset: Cars.csv"
   ]
  },
  {
   "cell_type": "code",
   "execution_count": 35,
   "id": "e51f741d",
   "metadata": {},
   "outputs": [],
   "source": [
    "import pandas as pd\n",
    "import statsmodels.api as sma"
   ]
  },
  {
   "cell_type": "code",
   "execution_count": 36,
   "id": "5c58e760",
   "metadata": {},
   "outputs": [
    {
     "data": {
      "text/html": [
       "<div>\n",
       "<style scoped>\n",
       "    .dataframe tbody tr th:only-of-type {\n",
       "        vertical-align: middle;\n",
       "    }\n",
       "\n",
       "    .dataframe tbody tr th {\n",
       "        vertical-align: top;\n",
       "    }\n",
       "\n",
       "    .dataframe thead th {\n",
       "        text-align: right;\n",
       "    }\n",
       "</style>\n",
       "<table border=\"1\" class=\"dataframe\">\n",
       "  <thead>\n",
       "    <tr style=\"text-align: right;\">\n",
       "      <th></th>\n",
       "      <th>HP</th>\n",
       "      <th>MPG</th>\n",
       "      <th>VOL</th>\n",
       "      <th>SP</th>\n",
       "      <th>WT</th>\n",
       "    </tr>\n",
       "  </thead>\n",
       "  <tbody>\n",
       "    <tr>\n",
       "      <th>0</th>\n",
       "      <td>49</td>\n",
       "      <td>53.700681</td>\n",
       "      <td>89</td>\n",
       "      <td>104.185353</td>\n",
       "      <td>28.762059</td>\n",
       "    </tr>\n",
       "    <tr>\n",
       "      <th>1</th>\n",
       "      <td>55</td>\n",
       "      <td>50.013401</td>\n",
       "      <td>92</td>\n",
       "      <td>105.461264</td>\n",
       "      <td>30.466833</td>\n",
       "    </tr>\n",
       "    <tr>\n",
       "      <th>2</th>\n",
       "      <td>55</td>\n",
       "      <td>50.013401</td>\n",
       "      <td>92</td>\n",
       "      <td>105.461264</td>\n",
       "      <td>30.193597</td>\n",
       "    </tr>\n",
       "    <tr>\n",
       "      <th>3</th>\n",
       "      <td>70</td>\n",
       "      <td>45.696322</td>\n",
       "      <td>92</td>\n",
       "      <td>113.461264</td>\n",
       "      <td>30.632114</td>\n",
       "    </tr>\n",
       "    <tr>\n",
       "      <th>4</th>\n",
       "      <td>53</td>\n",
       "      <td>50.504232</td>\n",
       "      <td>92</td>\n",
       "      <td>104.461264</td>\n",
       "      <td>29.889149</td>\n",
       "    </tr>\n",
       "  </tbody>\n",
       "</table>\n",
       "</div>"
      ],
      "text/plain": [
       "   HP        MPG  VOL          SP         WT\n",
       "0  49  53.700681   89  104.185353  28.762059\n",
       "1  55  50.013401   92  105.461264  30.466833\n",
       "2  55  50.013401   92  105.461264  30.193597\n",
       "3  70  45.696322   92  113.461264  30.632114\n",
       "4  53  50.504232   92  104.461264  29.889149"
      ]
     },
     "execution_count": 36,
     "metadata": {},
     "output_type": "execute_result"
    }
   ],
   "source": [
    "cars = pd.read_csv(\"Cars.csv\")\n",
    "cars.head()"
   ]
  },
  {
   "cell_type": "code",
   "execution_count": 37,
   "id": "4d08888f",
   "metadata": {},
   "outputs": [
    {
     "name": "stdout",
     "output_type": "stream",
     "text": [
      "Mean of MPG: 34.422075728024666\n",
      "Median of MPG: 35.15272697\n",
      "Mode of MPG: 0    29.629936\n",
      "Name: MPG, dtype: float64\n",
      "Std. Deviation of MPG: 9.131444731795982\n",
      "Skewness of MPG: -0.17794674747025727\n",
      "Kurtosis of MPG: -0.6116786559430913\n",
      "AxesSubplot(0.125,0.125;0.775x0.755)\n",
      "Figure(432x288)\n"
     ]
    },
    {
     "data": {
      "image/png": "[encoded data removed]",
      "text/plain": [
       "<Figure size 432x288 with 1 Axes>"
      ]
     },
     "metadata": {
      "needs_background": "light"
     },
     "output_type": "display_data"
    },
    {
     "data": {
      "image/png": "[encoded data removed]",
      "text/plain": [
       "<Figure size 432x288 with 1 Axes>"
      ]
     },
     "metadata": {
      "needs_background": "light"
     },
     "output_type": "display_data"
    }
   ],
   "source": [
    "print('Mean of MPG:',cars['MPG'].mean())\n",
    "print('Median of MPG:',cars['MPG'].median())\n",
    "print('Mode of MPG:',cars['MPG'].mode())\n",
    "print('Std. Deviation of MPG:',cars['MPG'].std())\n",
    "print('Skewness of MPG:',cars['MPG'].skew())\n",
    "print('Kurtosis of MPG:',cars['MPG'].kurtosis())\n",
    "print(sns.distplot(cars['MPG']))\n",
    "print(sma.qqplot(cars['MPG'], dist = stats.norm))"
   ]
  },
  {
   "cell_type": "markdown",
   "id": "d91bb38e",
   "metadata": {},
   "source": [
    "##### MPG of Cars follow Normal Distribution"
   ]
  },
  {
   "cell_type": "markdown",
   "id": "daa11a0c",
   "metadata": {},
   "source": [
    "b) Check Whether the Adipose Tissue (AT) and Waist Circumference (Waist) from wc-at data set follows Normal Distribution \n",
    "- Dataset: wc-at.csv"
   ]
  },
  {
   "cell_type": "code",
   "execution_count": 38,
   "id": "0e7503d6",
   "metadata": {},
   "outputs": [
    {
     "data": {
      "text/html": [
       "<div>\n",
       "<style scoped>\n",
       "    .dataframe tbody tr th:only-of-type {\n",
       "        vertical-align: middle;\n",
       "    }\n",
       "\n",
       "    .dataframe tbody tr th {\n",
       "        vertical-align: top;\n",
       "    }\n",
       "\n",
       "    .dataframe thead th {\n",
       "        text-align: right;\n",
       "    }\n",
       "</style>\n",
       "<table border=\"1\" class=\"dataframe\">\n",
       "  <thead>\n",
       "    <tr style=\"text-align: right;\">\n",
       "      <th></th>\n",
       "      <th>Waist</th>\n",
       "      <th>AT</th>\n",
       "    </tr>\n",
       "  </thead>\n",
       "  <tbody>\n",
       "    <tr>\n",
       "      <th>0</th>\n",
       "      <td>74.75</td>\n",
       "      <td>25.72</td>\n",
       "    </tr>\n",
       "    <tr>\n",
       "      <th>1</th>\n",
       "      <td>72.60</td>\n",
       "      <td>25.89</td>\n",
       "    </tr>\n",
       "    <tr>\n",
       "      <th>2</th>\n",
       "      <td>81.80</td>\n",
       "      <td>42.60</td>\n",
       "    </tr>\n",
       "    <tr>\n",
       "      <th>3</th>\n",
       "      <td>83.95</td>\n",
       "      <td>42.80</td>\n",
       "    </tr>\n",
       "    <tr>\n",
       "      <th>4</th>\n",
       "      <td>74.65</td>\n",
       "      <td>29.84</td>\n",
       "    </tr>\n",
       "  </tbody>\n",
       "</table>\n",
       "</div>"
      ],
      "text/plain": [
       "   Waist     AT\n",
       "0  74.75  25.72\n",
       "1  72.60  25.89\n",
       "2  81.80  42.60\n",
       "3  83.95  42.80\n",
       "4  74.65  29.84"
      ]
     },
     "execution_count": 38,
     "metadata": {},
     "output_type": "execute_result"
    }
   ],
   "source": [
    "wcat = pd.read_csv('wc-at.csv')\n",
    "wcat.head()"
   ]
  },
  {
   "cell_type": "code",
   "execution_count": 39,
   "id": "a3be1c5a",
   "metadata": {
    "scrolled": false
   },
   "outputs": [
    {
     "name": "stdout",
     "output_type": "stream",
     "text": [
      "Mean of MPG: 91.90183486238533\n",
      "Median of MPG: 90.8\n",
      "Mode of MPG: 0     94.5\n",
      "1    106.0\n",
      "2    108.5\n",
      "Name: Waist, dtype: float64\n",
      "Std. Deviation of MPG: 13.559115982678826\n",
      "Skewness of MPG: 0.1340560824786468\n",
      "Kurtosis of MPG: -1.1026666011768886\n",
      "AxesSubplot(0.125,0.125;0.775x0.755)\n",
      "Figure(432x288)\n"
     ]
    },
    {
     "data": {
      "image/png": "[encoded data removed]",
      "text/plain": [
       "<Figure size 432x288 with 1 Axes>"
      ]
     },
     "metadata": {
      "needs_background": "light"
     },
     "output_type": "display_data"
    },
    {
     "data": {
      "image/png": "[encoded data removed]",
      "text/plain": [
       "<Figure size 432x288 with 1 Axes>"
      ]
     },
     "metadata": {
      "needs_background": "light"
     },
     "output_type": "display_data"
    }
   ],
   "source": [
    "print('Mean of MPG:',wcat['Waist'].mean())\n",
    "print('Median of MPG:',wcat['Waist'].median())\n",
    "print('Mode of MPG:',wcat['Waist'].mode())\n",
    "print('Std. Deviation of MPG:',wcat['Waist'].std())\n",
    "print('Skewness of MPG:',wcat['Waist'].skew())\n",
    "print('Kurtosis of MPG:',wcat['Waist'].kurtosis())\n",
    "print(sns.distplot(wcat['Waist']))\n",
    "print(sma.qqplot(wcat['Waist'], dist = stats.norm))"
   ]
  },
  {
   "cell_type": "code",
   "execution_count": 40,
   "id": "0e632ce0",
   "metadata": {},
   "outputs": [
    {
     "name": "stdout",
     "output_type": "stream",
     "text": [
      "Mean of MPG: 101.89403669724771\n",
      "Median of MPG: 96.54\n",
      "Mode of MPG: 0    121.0\n",
      "1    123.0\n",
      "Name: AT, dtype: float64\n",
      "Std. Deviation of MPG: 57.29476272231215\n",
      "Skewness of MPG: 0.584869324127853\n",
      "Kurtosis of MPG: -0.28557567504584425\n",
      "AxesSubplot(0.125,0.125;0.775x0.755)\n",
      "Figure(432x288)\n"
     ]
    },
    {
     "data": {
      "image/png": "[encoded data removed]",
      "text/plain": [
       "<Figure size 432x288 with 1 Axes>"
      ]
     },
     "metadata": {
      "needs_background": "light"
     },
     "output_type": "display_data"
    },
    {
     "data": {
      "image/png": "[encoded data removed]",
      "text/plain": [
       "<Figure size 432x288 with 1 Axes>"
      ]
     },
     "metadata": {
      "needs_background": "light"
     },
     "output_type": "display_data"
    }
   ],
   "source": [
    "print('Mean of MPG:',wcat['AT'].mean())\n",
    "print('Median of MPG:',wcat['AT'].median())\n",
    "print('Mode of MPG:',wcat['AT'].mode())\n",
    "print('Std. Deviation of MPG:',wcat['AT'].std())\n",
    "print('Skewness of MPG:',wcat['AT'].skew())\n",
    "print('Kurtosis of MPG:',wcat['AT'].kurtosis())\n",
    "print(sns.distplot(wcat['AT']))\n",
    "print(sma.qqplot(wcat['AT'], dist = stats.norm))"
   ]
  },
  {
   "cell_type": "markdown",
   "id": "f125a8dd",
   "metadata": {},
   "source": [
    "##### Adipose Tissue (AT) and Waist Circumference (Waist) from wc-at data set follows Normal Distribution"
   ]
  },
  {
   "cell_type": "markdown",
   "id": "144ae93a",
   "metadata": {},
   "source": [
    "---------------------------------------------------------------------------------------------------------------------------"
   ]
  },
  {
   "cell_type": "markdown",
   "id": "88191691",
   "metadata": {},
   "source": [
    "#### Q 22) Calculate the Z scores of 90% confidence interval,94% confidence interval, 60% confidence interval "
   ]
  },
  {
   "cell_type": "code",
   "execution_count": 41,
   "id": "0618760d",
   "metadata": {},
   "outputs": [
    {
     "data": {
      "text/plain": [
       "1.6448536269514722"
      ]
     },
     "execution_count": 41,
     "metadata": {},
     "output_type": "execute_result"
    }
   ],
   "source": [
    "#for 90% confidence interval\n",
    "stats.norm.ppf(0.95) "
   ]
  },
  {
   "cell_type": "code",
   "execution_count": 42,
   "id": "13d67240",
   "metadata": {},
   "outputs": [
    {
     "data": {
      "text/plain": [
       "1.8807936081512509"
      ]
     },
     "execution_count": 42,
     "metadata": {},
     "output_type": "execute_result"
    }
   ],
   "source": [
    "#for 94% confidence interval\n",
    "stats.norm.ppf(0.97) "
   ]
  },
  {
   "cell_type": "code",
   "execution_count": 43,
   "id": "2278f95d",
   "metadata": {},
   "outputs": [
    {
     "data": {
      "text/plain": [
       "0.8416212335729143"
      ]
     },
     "execution_count": 43,
     "metadata": {},
     "output_type": "execute_result"
    }
   ],
   "source": [
    "#for 60% confidence interval\n",
    "stats.norm.ppf(0.80) "
   ]
  },
  {
   "cell_type": "markdown",
   "id": "113b57fa",
   "metadata": {},
   "source": [
    "---------------------------------------------------------------------------------------------------------------------------"
   ]
  },
  {
   "cell_type": "markdown",
   "id": "c96aa6b0",
   "metadata": {},
   "source": [
    "#### Q 23) Calculate the t scores of 95% confidence interval, 96% confidence interval, 99% confidence interval for sample size of 25"
   ]
  },
  {
   "cell_type": "code",
   "execution_count": 44,
   "id": "0fbcfcf4",
   "metadata": {},
   "outputs": [
    {
     "data": {
      "text/plain": [
       "2.0638985616280205"
      ]
     },
     "execution_count": 44,
     "metadata": {},
     "output_type": "execute_result"
    }
   ],
   "source": [
    "#for 95% confidence interval for sample size of 25.\n",
    "stats.t.ppf(0.975,24) "
   ]
  },
  {
   "cell_type": "code",
   "execution_count": 45,
   "id": "32d03f29",
   "metadata": {},
   "outputs": [
    {
     "data": {
      "text/plain": [
       "2.1715446760080677"
      ]
     },
     "execution_count": 45,
     "metadata": {},
     "output_type": "execute_result"
    }
   ],
   "source": [
    "#for 96% confidence interval for sample size of 25.\n",
    "stats.t.ppf(0.98,24) "
   ]
  },
  {
   "cell_type": "code",
   "execution_count": 46,
   "id": "14b98d85",
   "metadata": {},
   "outputs": [
    {
     "data": {
      "text/plain": [
       "2.796939504772804"
      ]
     },
     "execution_count": 46,
     "metadata": {},
     "output_type": "execute_result"
    }
   ],
   "source": [
    "#for 99% confidence interval for sample size of 25.\n",
    "stats.t.ppf(0.995,24) "
   ]
  },
  {
   "cell_type": "markdown",
   "id": "5650f0c8",
   "metadata": {},
   "source": [
    "---------------------------------------------------------------------------------------------------------------------------"
   ]
  },
  {
   "cell_type": "markdown",
   "id": "38cbe87d",
   "metadata": {},
   "source": [
    "#### Q 24)   A Government company claims that an average light bulb lasts 270 days. A researcher randomly selects 18 bulbs for testing. The sampled bulbs last an average of 260 days, with a standard deviation of 90 days. If the CEO's claim were true, what is the probability that 18 randomly selected bulbs would have an average life of no more than 260 days\n",
    "Hint:  \n",
    " rcode - pt(tscore,df)  \n",
    " df - degrees of freedom"
   ]
  },
  {
   "cell_type": "code",
   "execution_count": 47,
   "id": "5c06b1ca",
   "metadata": {},
   "outputs": [],
   "source": [
    "from scipy import stats"
   ]
  },
  {
   "cell_type": "markdown",
   "id": "9ed6660b",
   "metadata": {},
   "source": [
    "sample mean = 260  \n",
    "population mean = 270  \n",
    "Sample std deviation = 90  "
   ]
  },
  {
   "cell_type": "markdown",
   "id": "c11909f9",
   "metadata": {},
   "source": [
    "To calculate T score T = (X-μ)/[σ/√(n)]."
   ]
  },
  {
   "cell_type": "code",
   "execution_count": 48,
   "id": "2bba9f53",
   "metadata": {},
   "outputs": [
    {
     "data": {
      "text/plain": [
       "-0.4714045207910317"
      ]
     },
     "execution_count": 48,
     "metadata": {},
     "output_type": "execute_result"
    }
   ],
   "source": [
    "Tscore = ((260-270)/(90/18**0.5))\n",
    "Tscore"
   ]
  },
  {
   "cell_type": "code",
   "execution_count": 49,
   "id": "0880a941",
   "metadata": {},
   "outputs": [
    {
     "data": {
      "text/plain": [
       "0.32167253567098364"
      ]
     },
     "execution_count": 49,
     "metadata": {},
     "output_type": "execute_result"
    }
   ],
   "source": [
    "stats.t.cdf((Tscore),17)"
   ]
  }
 ],
 "metadata": {
  "kernelspec": {
   "display_name": "Python 3 (ipykernel)",
   "language": "python",
   "name": "python3"
  },
  "language_info": {
   "codemirror_mode": {
    "name": "ipython",
    "version": 3
   },
   "file_extension": ".py",
   "mimetype": "text/x-python",
   "name": "python",
   "nbconvert_exporter": "python",
   "pygments_lexer": "ipython3",
   "version": "3.9.12"
  }
 },
 "nbformat": 4,
 "nbformat_minor": 5
}
