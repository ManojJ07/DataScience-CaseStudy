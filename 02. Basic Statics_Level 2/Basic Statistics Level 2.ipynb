{
 "cells": [
  {
   "cell_type": "markdown",
   "id": "4b38b499",
   "metadata": {},
   "source": [
    "##### Q1.  Look at the data given below. Plot the data, find the outliers and find out  μ,σ,σ^2"
   ]
  },
  {
   "cell_type": "markdown",
   "id": "020f84a2",
   "metadata": {},
   "source": [
    "|Name of company\t|Measure X|\n",
    "|-------------------|---------|\n",
    "|Allied Signal\t|24.23%|\n",
    "|Bankers Trust\t|25.53%|\n",
    "|General Mills\t|25.41%|\n",
    "|ITT Industries\t|24.14%|\n",
    "|J.P.Morgan & Co.\t|29.62%|\n",
    "|Lehman Brothers\t|28.25%|\n",
    "|Marriott\t|25.81%|\n",
    "|MCI\t|24.39%|\n",
    "|Merrill Lynch\t|40.26%|\n",
    "|Microsoft\t|32.95%|\n",
    "|Morgan Stanley\t|91.36%|\n",
    "|Sun Microsystems\t|25.99%|\n",
    "|Travelers\t|39.42%|\n",
    "|US Airways\t|26.71%|\n",
    "|Warner-Lambert\t|35.00%|"
   ]
  },
  {
   "cell_type": "code",
   "execution_count": 1,
   "id": "1b61d1a8",
   "metadata": {},
   "outputs": [],
   "source": [
    "import numpy as np\n",
    "import seaborn as sns"
   ]
  },
  {
   "cell_type": "code",
   "execution_count": 2,
   "id": "140ae635",
   "metadata": {},
   "outputs": [],
   "source": [
    "list = [24.23, 25.53, 25.41, 24.14, 29.62, 28.25, 25.81, 24.39, 40.26, 32.95, 91.36, 25.99, 39.42, 26.71, 35.00]"
   ]
  },
  {
   "cell_type": "code",
   "execution_count": 3,
   "id": "2322f00d",
   "metadata": {},
   "outputs": [
    {
     "name": "stderr",
     "output_type": "stream",
     "text": [
      "D:\\imjma\\anaconda3\\lib\\site-packages\\seaborn\\_decorators.py:36: FutureWarning: Pass the following variable as a keyword arg: x. From version 0.12, the only valid positional argument will be `data`, and passing other arguments without an explicit keyword will result in an error or misinterpretation.\n",
      "  warnings.warn(\n"
     ]
    },
    {
     "data": {
      "text/plain": [
       "<AxesSubplot:>"
      ]
     },
     "execution_count": 3,
     "metadata": {},
     "output_type": "execute_result"
    },
    {
     "data": {
      "image/png": "[encoded data removed]",
      "text/plain": [
       "<Figure size 432x288 with 1 Axes>"
      ]
     },
     "metadata": {
      "needs_background": "light"
     },
     "output_type": "display_data"
    }
   ],
   "source": [
    "sns.boxplot(list)"
   ]
  },
  {
   "cell_type": "code",
   "execution_count": 4,
   "id": "081a7283",
   "metadata": {},
   "outputs": [
    {
     "name": "stderr",
     "output_type": "stream",
     "text": [
      "D:\\imjma\\anaconda3\\lib\\site-packages\\seaborn\\distributions.py:2619: FutureWarning: `distplot` is a deprecated function and will be removed in a future version. Please adapt your code to use either `displot` (a figure-level function with similar flexibility) or `histplot` (an axes-level function for histograms).\n",
      "  warnings.warn(msg, FutureWarning)\n"
     ]
    },
    {
     "data": {
      "text/plain": [
       "<AxesSubplot:ylabel='Density'>"
      ]
     },
     "execution_count": 4,
     "metadata": {},
     "output_type": "execute_result"
    },
    {
     "data": {
      "image/png": "[encoded data removed]",
      "text/plain": [
       "<Figure size 432x288 with 1 Axes>"
      ]
     },
     "metadata": {
      "needs_background": "light"
     },
     "output_type": "display_data"
    }
   ],
   "source": [
    "sns.distplot(list)"
   ]
  },
  {
   "cell_type": "code",
   "execution_count": 5,
   "id": "048dc445",
   "metadata": {},
   "outputs": [
    {
     "name": "stdout",
     "output_type": "stream",
     "text": [
      "μ : 33.27133333333333\n",
      "σ : 16.370812590976932\n",
      "σ^2 : 268.00350488888887\n"
     ]
    }
   ],
   "source": [
    "print('μ :',np.mean(list))\n",
    "print('σ :',np.std(list))\n",
    "print('σ^2 :',np.var(list))"
   ]
  },
  {
   "cell_type": "markdown",
   "id": "c1755f09",
   "metadata": {},
   "source": [
    "##### Q4. Let X ~ N(100, 202). Find two values, a and b, symmetric about the mean, such that the probability of the random variable taking a value between them is 0.99. \n",
    "\n",
    "A.90.5, 105.9   \n",
    "B.80.2, 119.8   \n",
    "C.22, 78   \n",
    "D.48.5, 151.5   \n",
    "E.90.1, 109.9  "
   ]
  },
  {
   "cell_type": "code",
   "execution_count": 6,
   "id": "9c484d15",
   "metadata": {},
   "outputs": [],
   "source": [
    "from scipy.stats import norm\n",
    "from scipy.stats import binom"
   ]
  },
  {
   "cell_type": "code",
   "execution_count": 7,
   "id": "d833e90b",
   "metadata": {},
   "outputs": [
    {
     "data": {
      "text/plain": [
       "151.516586070978"
      ]
     },
     "execution_count": 7,
     "metadata": {},
     "output_type": "execute_result"
    }
   ],
   "source": [
    "norm.ppf(0.995,100,20)"
   ]
  },
  {
   "cell_type": "code",
   "execution_count": 8,
   "id": "1735ee54",
   "metadata": {},
   "outputs": [
    {
     "data": {
      "text/plain": [
       "48.483413929021985"
      ]
     },
     "execution_count": 8,
     "metadata": {},
     "output_type": "execute_result"
    }
   ],
   "source": [
    "norm.ppf(0.005,100,20)"
   ]
  },
  {
   "cell_type": "markdown",
   "id": "09bd472b",
   "metadata": {},
   "source": [
    "##### Q5.\tConsider a company that has two different divisions. The annual profits from the two divisions are independent and have distributions Profit1 ~ N(5, 32) and Profit2 ~ N(7, 42) respectively. Both the profits are in dollars Million. Answer the following questions about the total profit of the company in Rupees. Assume that 1 dollar = Rs. 45\n",
    "A.\tSpecify a Rupee range (centered on the mean) such that it contains 95% probability for the annual profit of the company.  \n",
    "B.\tSpecify the 5th percentile of profit (in Rupees) for the company.  \n",
    "C.\tWhich of the two divisions has a larger probability of making a loss each year?  "
   ]
  },
  {
   "cell_type": "markdown",
   "id": "76e31b12",
   "metadata": {},
   "source": [
    "a)"
   ]
  },
  {
   "cell_type": "code",
   "execution_count": 9,
   "id": "d0096341",
   "metadata": {},
   "outputs": [
    {
     "name": "stdout",
     "output_type": "stream",
     "text": [
      "Upper Limit : 219.12010804637984\n",
      "Lower Limit : 230.87989195362016\n",
      "Upper Limit : 309.1201080463798\n",
      "Lower Limit : 320.8798919536202\n"
     ]
    }
   ],
   "source": [
    "print('Upper Limit :',norm.ppf(0.025,45*5,3))\n",
    "print('Lower Limit :',norm.ppf(0.975,45*5,3))\n",
    "print('Upper Limit :',norm.ppf(0.025,45*7,3))\n",
    "print('Lower Limit :',norm.ppf(0.975,45*7,3))"
   ]
  },
  {
   "cell_type": "code",
   "execution_count": 10,
   "id": "e17646f7",
   "metadata": {},
   "outputs": [
    {
     "name": "stdout",
     "output_type": "stream",
     "text": [
      "The Rupee will be in the range of [ 528.2402160927596 , 551.7597839072404 ]\n"
     ]
    }
   ],
   "source": [
    "print('The Rupee will be in the range of [',219.12010804637984+309.1201080463798,',',230.87989195362016+320.8798919536202,']')"
   ]
  },
  {
   "cell_type": "markdown",
   "id": "e55ba38f",
   "metadata": {},
   "source": [
    "b)"
   ]
  },
  {
   "cell_type": "code",
   "execution_count": 11,
   "id": "c71655ac",
   "metadata": {},
   "outputs": [
    {
     "name": "stdout",
     "output_type": "stream",
     "text": [
      "310.0654391191456\n",
      "220.0654391191456\n"
     ]
    }
   ],
   "source": [
    "print(norm.ppf(0.05,45*7,3))\n",
    "print(norm.ppf(0.05,45*5,3))"
   ]
  },
  {
   "cell_type": "code",
   "execution_count": 12,
   "id": "2e30e548",
   "metadata": {},
   "outputs": [
    {
     "name": "stdout",
     "output_type": "stream",
     "text": [
      "5th percentile of profit (in Rupees) = 530.1308782382912\n"
     ]
    }
   ],
   "source": [
    "print('5th percentile of profit (in Rupees) =',310.0654391191456+220.0654391191456)"
   ]
  },
  {
   "cell_type": "markdown",
   "id": "3aa876ce",
   "metadata": {},
   "source": [
    "C) 2nd Division"
   ]
  }
 ],
 "metadata": {
  "kernelspec": {
   "display_name": "Python 3 (ipykernel)",
   "language": "python",
   "name": "python3"
  },
  "language_info": {
   "codemirror_mode": {
    "name": "ipython",
    "version": 3
   },
   "file_extension": ".py",
   "mimetype": "text/x-python",
   "name": "python",
   "nbconvert_exporter": "python",
   "pygments_lexer": "ipython3",
   "version": "3.9.12"
  }
 },
 "nbformat": 4,
 "nbformat_minor": 5
}
